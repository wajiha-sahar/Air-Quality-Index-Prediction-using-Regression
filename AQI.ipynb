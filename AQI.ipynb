{
 "cells": [
  {
   "cell_type": "code",
   "execution_count": 100,
   "metadata": {
    "id": "kQ-RF-PhN-aX"
   },
   "outputs": [],
   "source": [
    "import pandas as pd\n",
    "import statsmodels.api as sm\n",
    "import numpy as np\n",
    "import seaborn as sns\n",
    "import matplotlib.pyplot as plt\n",
    "import warnings\n",
    "warnings.filterwarnings(\"ignore\")\n",
    "\n",
    "from sklearn.preprocessing import LabelEncoder\n",
    "from sklearn.model_selection import train_test_split\n",
    "from sklearn.linear_model import LinearRegression\n",
    "from sklearn.tree import DecisionTreeRegressor\n",
    "from sklearn.ensemble import RandomForestRegressor\n",
    "from sklearn.linear_model import LogisticRegression\n",
    "from sklearn.linear_model import Ridge\n",
    "import xgboost as xgb\n",
    "\n",
    "from scipy import stats\n",
    "from sklearn import metrics\n",
    "from sklearn.metrics import mean_absolute_error,mean_squared_error,r2_score\n",
    "from sklearn.metrics import accuracy_score,confusion_matrix, precision_score,roc_auc_score, recall_score, f1_score, roc_auc_score, confusion_matrix\n",
    "\n",
    "\n",
    "from sklearn.preprocessing import MinMaxScaler\n",
    "from tensorflow.keras.models import Sequential\n",
    "from tensorflow.keras.layers import Dense"
   ]
  },
  {
   "cell_type": "code",
   "execution_count": 72,
   "metadata": {},
   "outputs": [
    {
     "name": "stdout",
     "output_type": "stream",
     "text": [
      "Requirement already satisfied: xgboost in ./anaconda3/lib/python3.10/site-packages (1.7.5)\n",
      "Requirement already satisfied: scipy in ./.local/lib/python3.10/site-packages (from xgboost) (1.10.1)\n",
      "Requirement already satisfied: numpy in ./.local/lib/python3.10/site-packages (from xgboost) (1.23.5)\n",
      "Note: you may need to restart the kernel to use updated packages.\n"
     ]
    }
   ],
   "source": [
    "pip install xgboost\n"
   ]
  },
  {
   "cell_type": "code",
   "execution_count": 2,
   "metadata": {
    "id": "OKGlik6lOEzQ"
   },
   "outputs": [],
   "source": [
    "df= pd.read_csv('Hourly Data.csv',encoding='unicode_escape')"
   ]
  },
  {
   "cell_type": "code",
   "execution_count": 3,
   "metadata": {},
   "outputs": [],
   "source": [
    "df1= pd.read_csv('CO2_ind.csv',encoding='unicode_escape')"
   ]
  },
  {
   "cell_type": "code",
   "execution_count": 4,
   "metadata": {},
   "outputs": [
    {
     "data": {
      "text/html": [
       "<div>\n",
       "<style scoped>\n",
       "    .dataframe tbody tr th:only-of-type {\n",
       "        vertical-align: middle;\n",
       "    }\n",
       "\n",
       "    .dataframe tbody tr th {\n",
       "        vertical-align: top;\n",
       "    }\n",
       "\n",
       "    .dataframe thead th {\n",
       "        text-align: right;\n",
       "    }\n",
       "</style>\n",
       "<table border=\"1\" class=\"dataframe\">\n",
       "  <thead>\n",
       "    <tr style=\"text-align: right;\">\n",
       "      <th></th>\n",
       "      <th>nodeid</th>\n",
       "      <th>temperature</th>\n",
       "      <th>humidity</th>\n",
       "      <th>pressure</th>\n",
       "      <th>co2</th>\n",
       "      <th>devicetimestamp</th>\n",
       "    </tr>\n",
       "  </thead>\n",
       "  <tbody>\n",
       "    <tr>\n",
       "      <th>0</th>\n",
       "      <td>700</td>\n",
       "      <td>20.96</td>\n",
       "      <td>18.80</td>\n",
       "      <td>979.8</td>\n",
       "      <td>395</td>\n",
       "      <td>1546300817</td>\n",
       "    </tr>\n",
       "    <tr>\n",
       "      <th>1</th>\n",
       "      <td>700</td>\n",
       "      <td>20.95</td>\n",
       "      <td>18.81</td>\n",
       "      <td>979.8</td>\n",
       "      <td>395</td>\n",
       "      <td>1546300868</td>\n",
       "    </tr>\n",
       "    <tr>\n",
       "      <th>2</th>\n",
       "      <td>700</td>\n",
       "      <td>20.95</td>\n",
       "      <td>18.81</td>\n",
       "      <td>979.8</td>\n",
       "      <td>395</td>\n",
       "      <td>1546300919</td>\n",
       "    </tr>\n",
       "    <tr>\n",
       "      <th>3</th>\n",
       "      <td>700</td>\n",
       "      <td>20.95</td>\n",
       "      <td>18.84</td>\n",
       "      <td>979.7</td>\n",
       "      <td>395</td>\n",
       "      <td>1546300970</td>\n",
       "    </tr>\n",
       "    <tr>\n",
       "      <th>4</th>\n",
       "      <td>700</td>\n",
       "      <td>20.96</td>\n",
       "      <td>18.83</td>\n",
       "      <td>979.6</td>\n",
       "      <td>395</td>\n",
       "      <td>1546301021</td>\n",
       "    </tr>\n",
       "    <tr>\n",
       "      <th>...</th>\n",
       "      <td>...</td>\n",
       "      <td>...</td>\n",
       "      <td>...</td>\n",
       "      <td>...</td>\n",
       "      <td>...</td>\n",
       "      <td>...</td>\n",
       "    </tr>\n",
       "    <tr>\n",
       "      <th>515169</th>\n",
       "      <td>700</td>\n",
       "      <td>21.28</td>\n",
       "      <td>20.82</td>\n",
       "      <td>995.9</td>\n",
       "      <td>396</td>\n",
       "      <td>1577836540</td>\n",
       "    </tr>\n",
       "    <tr>\n",
       "      <th>515170</th>\n",
       "      <td>700</td>\n",
       "      <td>21.30</td>\n",
       "      <td>20.82</td>\n",
       "      <td>995.9</td>\n",
       "      <td>396</td>\n",
       "      <td>1577836600</td>\n",
       "    </tr>\n",
       "    <tr>\n",
       "      <th>515171</th>\n",
       "      <td>700</td>\n",
       "      <td>21.31</td>\n",
       "      <td>20.84</td>\n",
       "      <td>996.0</td>\n",
       "      <td>396</td>\n",
       "      <td>1577836660</td>\n",
       "    </tr>\n",
       "    <tr>\n",
       "      <th>515172</th>\n",
       "      <td>700</td>\n",
       "      <td>21.32</td>\n",
       "      <td>20.82</td>\n",
       "      <td>995.9</td>\n",
       "      <td>396</td>\n",
       "      <td>1577836720</td>\n",
       "    </tr>\n",
       "    <tr>\n",
       "      <th>515173</th>\n",
       "      <td>700</td>\n",
       "      <td>21.30</td>\n",
       "      <td>20.82</td>\n",
       "      <td>995.9</td>\n",
       "      <td>396</td>\n",
       "      <td>1577836781</td>\n",
       "    </tr>\n",
       "  </tbody>\n",
       "</table>\n",
       "<p>515174 rows × 6 columns</p>\n",
       "</div>"
      ],
      "text/plain": [
       "        nodeid  temperature  humidity  pressure  co2  devicetimestamp\n",
       "0          700        20.96     18.80     979.8  395       1546300817\n",
       "1          700        20.95     18.81     979.8  395       1546300868\n",
       "2          700        20.95     18.81     979.8  395       1546300919\n",
       "3          700        20.95     18.84     979.7  395       1546300970\n",
       "4          700        20.96     18.83     979.6  395       1546301021\n",
       "...        ...          ...       ...       ...  ...              ...\n",
       "515169     700        21.28     20.82     995.9  396       1577836540\n",
       "515170     700        21.30     20.82     995.9  396       1577836600\n",
       "515171     700        21.31     20.84     996.0  396       1577836660\n",
       "515172     700        21.32     20.82     995.9  396       1577836720\n",
       "515173     700        21.30     20.82     995.9  396       1577836781\n",
       "\n",
       "[515174 rows x 6 columns]"
      ]
     },
     "execution_count": 4,
     "metadata": {},
     "output_type": "execute_result"
    }
   ],
   "source": [
    "df1"
   ]
  },
  {
   "cell_type": "code",
   "execution_count": 5,
   "metadata": {},
   "outputs": [
    {
     "data": {
      "text/html": [
       "<div>\n",
       "<style scoped>\n",
       "    .dataframe tbody tr th:only-of-type {\n",
       "        vertical-align: middle;\n",
       "    }\n",
       "\n",
       "    .dataframe tbody tr th {\n",
       "        vertical-align: top;\n",
       "    }\n",
       "\n",
       "    .dataframe thead th {\n",
       "        text-align: right;\n",
       "    }\n",
       "</style>\n",
       "<table border=\"1\" class=\"dataframe\">\n",
       "  <thead>\n",
       "    <tr style=\"text-align: right;\">\n",
       "      <th></th>\n",
       "      <th>nodeid</th>\n",
       "      <th>temperature</th>\n",
       "      <th>humidity</th>\n",
       "      <th>pressure</th>\n",
       "      <th>co2</th>\n",
       "      <th>devicetimestamp</th>\n",
       "    </tr>\n",
       "  </thead>\n",
       "  <tbody>\n",
       "    <tr>\n",
       "      <th>0</th>\n",
       "      <td>700</td>\n",
       "      <td>20.96</td>\n",
       "      <td>18.80</td>\n",
       "      <td>979.8</td>\n",
       "      <td>395</td>\n",
       "      <td>1546300817</td>\n",
       "    </tr>\n",
       "    <tr>\n",
       "      <th>1</th>\n",
       "      <td>700</td>\n",
       "      <td>20.95</td>\n",
       "      <td>18.81</td>\n",
       "      <td>979.8</td>\n",
       "      <td>395</td>\n",
       "      <td>1546300868</td>\n",
       "    </tr>\n",
       "    <tr>\n",
       "      <th>2</th>\n",
       "      <td>700</td>\n",
       "      <td>20.95</td>\n",
       "      <td>18.81</td>\n",
       "      <td>979.8</td>\n",
       "      <td>395</td>\n",
       "      <td>1546300919</td>\n",
       "    </tr>\n",
       "    <tr>\n",
       "      <th>3</th>\n",
       "      <td>700</td>\n",
       "      <td>20.95</td>\n",
       "      <td>18.84</td>\n",
       "      <td>979.7</td>\n",
       "      <td>395</td>\n",
       "      <td>1546300970</td>\n",
       "    </tr>\n",
       "    <tr>\n",
       "      <th>4</th>\n",
       "      <td>700</td>\n",
       "      <td>20.96</td>\n",
       "      <td>18.83</td>\n",
       "      <td>979.6</td>\n",
       "      <td>395</td>\n",
       "      <td>1546301021</td>\n",
       "    </tr>\n",
       "    <tr>\n",
       "      <th>...</th>\n",
       "      <td>...</td>\n",
       "      <td>...</td>\n",
       "      <td>...</td>\n",
       "      <td>...</td>\n",
       "      <td>...</td>\n",
       "      <td>...</td>\n",
       "    </tr>\n",
       "    <tr>\n",
       "      <th>462675</th>\n",
       "      <td>700</td>\n",
       "      <td>21.30</td>\n",
       "      <td>24.99</td>\n",
       "      <td>1014.1</td>\n",
       "      <td>410</td>\n",
       "      <td>1574644542</td>\n",
       "    </tr>\n",
       "    <tr>\n",
       "      <th>462676</th>\n",
       "      <td>700</td>\n",
       "      <td>21.32</td>\n",
       "      <td>24.98</td>\n",
       "      <td>1014.1</td>\n",
       "      <td>410</td>\n",
       "      <td>1574644602</td>\n",
       "    </tr>\n",
       "    <tr>\n",
       "      <th>462677</th>\n",
       "      <td>700</td>\n",
       "      <td>21.31</td>\n",
       "      <td>24.97</td>\n",
       "      <td>1014.0</td>\n",
       "      <td>411</td>\n",
       "      <td>1574644663</td>\n",
       "    </tr>\n",
       "    <tr>\n",
       "      <th>462678</th>\n",
       "      <td>700</td>\n",
       "      <td>21.32</td>\n",
       "      <td>24.96</td>\n",
       "      <td>1014.0</td>\n",
       "      <td>411</td>\n",
       "      <td>1574644722</td>\n",
       "    </tr>\n",
       "    <tr>\n",
       "      <th>462679</th>\n",
       "      <td>700</td>\n",
       "      <td>21.32</td>\n",
       "      <td>24.97</td>\n",
       "      <td>1014.0</td>\n",
       "      <td>410</td>\n",
       "      <td>1574644783</td>\n",
       "    </tr>\n",
       "  </tbody>\n",
       "</table>\n",
       "<p>462680 rows × 6 columns</p>\n",
       "</div>"
      ],
      "text/plain": [
       "        nodeid  temperature  humidity  pressure  co2  devicetimestamp\n",
       "0          700        20.96     18.80     979.8  395       1546300817\n",
       "1          700        20.95     18.81     979.8  395       1546300868\n",
       "2          700        20.95     18.81     979.8  395       1546300919\n",
       "3          700        20.95     18.84     979.7  395       1546300970\n",
       "4          700        20.96     18.83     979.6  395       1546301021\n",
       "...        ...          ...       ...       ...  ...              ...\n",
       "462675     700        21.30     24.99    1014.1  410       1574644542\n",
       "462676     700        21.32     24.98    1014.1  410       1574644602\n",
       "462677     700        21.31     24.97    1014.0  411       1574644663\n",
       "462678     700        21.32     24.96    1014.0  411       1574644722\n",
       "462679     700        21.32     24.97    1014.0  410       1574644783\n",
       "\n",
       "[462680 rows x 6 columns]"
      ]
     },
     "execution_count": 5,
     "metadata": {},
     "output_type": "execute_result"
    }
   ],
   "source": [
    "df0 = df1.iloc[:462680]\n",
    "df0"
   ]
  },
  {
   "cell_type": "code",
   "execution_count": 6,
   "metadata": {},
   "outputs": [],
   "source": [
    "columns_to_drop = ['nodeid','temperature','humidity','pressure','devicetimestamp']\n",
    " #Strip leading/trailing whitespaces from column names\n",
    "columns_to_drop = [col.strip() for col in columns_to_drop]\n",
    "\n",
    "# Check if columns exist in the DataFrame before dropping\n",
    "existing_columns = [col for col in columns_to_drop if col in df0.columns]\n",
    "\n",
    "# Drop the existing columns\n",
    "df0 = df0.drop(columns=existing_columns)"
   ]
  },
  {
   "cell_type": "code",
   "execution_count": 7,
   "metadata": {},
   "outputs": [
    {
     "data": {
      "text/html": [
       "<div>\n",
       "<style scoped>\n",
       "    .dataframe tbody tr th:only-of-type {\n",
       "        vertical-align: middle;\n",
       "    }\n",
       "\n",
       "    .dataframe tbody tr th {\n",
       "        vertical-align: top;\n",
       "    }\n",
       "\n",
       "    .dataframe thead th {\n",
       "        text-align: right;\n",
       "    }\n",
       "</style>\n",
       "<table border=\"1\" class=\"dataframe\">\n",
       "  <thead>\n",
       "    <tr style=\"text-align: right;\">\n",
       "      <th></th>\n",
       "      <th>co2</th>\n",
       "    </tr>\n",
       "  </thead>\n",
       "  <tbody>\n",
       "    <tr>\n",
       "      <th>0</th>\n",
       "      <td>395</td>\n",
       "    </tr>\n",
       "    <tr>\n",
       "      <th>1</th>\n",
       "      <td>395</td>\n",
       "    </tr>\n",
       "    <tr>\n",
       "      <th>2</th>\n",
       "      <td>395</td>\n",
       "    </tr>\n",
       "    <tr>\n",
       "      <th>3</th>\n",
       "      <td>395</td>\n",
       "    </tr>\n",
       "    <tr>\n",
       "      <th>4</th>\n",
       "      <td>395</td>\n",
       "    </tr>\n",
       "    <tr>\n",
       "      <th>...</th>\n",
       "      <td>...</td>\n",
       "    </tr>\n",
       "    <tr>\n",
       "      <th>462675</th>\n",
       "      <td>410</td>\n",
       "    </tr>\n",
       "    <tr>\n",
       "      <th>462676</th>\n",
       "      <td>410</td>\n",
       "    </tr>\n",
       "    <tr>\n",
       "      <th>462677</th>\n",
       "      <td>411</td>\n",
       "    </tr>\n",
       "    <tr>\n",
       "      <th>462678</th>\n",
       "      <td>411</td>\n",
       "    </tr>\n",
       "    <tr>\n",
       "      <th>462679</th>\n",
       "      <td>410</td>\n",
       "    </tr>\n",
       "  </tbody>\n",
       "</table>\n",
       "<p>462680 rows × 1 columns</p>\n",
       "</div>"
      ],
      "text/plain": [
       "        co2\n",
       "0       395\n",
       "1       395\n",
       "2       395\n",
       "3       395\n",
       "4       395\n",
       "...     ...\n",
       "462675  410\n",
       "462676  410\n",
       "462677  411\n",
       "462678  411\n",
       "462679  410\n",
       "\n",
       "[462680 rows x 1 columns]"
      ]
     },
     "execution_count": 7,
     "metadata": {},
     "output_type": "execute_result"
    }
   ],
   "source": [
    "df0"
   ]
  },
  {
   "cell_type": "code",
   "execution_count": 8,
   "metadata": {
    "colab": {
     "base_uri": "https://localhost:8080/",
     "height": 206
    },
    "id": "IkgkJKXFOcRt",
    "outputId": "6356184b-39fd-42f4-ea09-afb3666fc74f"
   },
   "outputs": [
    {
     "data": {
      "text/html": [
       "<div>\n",
       "<style scoped>\n",
       "    .dataframe tbody tr th:only-of-type {\n",
       "        vertical-align: middle;\n",
       "    }\n",
       "\n",
       "    .dataframe tbody tr th {\n",
       "        vertical-align: top;\n",
       "    }\n",
       "\n",
       "    .dataframe thead th {\n",
       "        text-align: right;\n",
       "    }\n",
       "</style>\n",
       "<table border=\"1\" class=\"dataframe\">\n",
       "  <thead>\n",
       "    <tr style=\"text-align: right;\">\n",
       "      <th></th>\n",
       "      <th>City</th>\n",
       "      <th>Datetime</th>\n",
       "      <th>PM2.5</th>\n",
       "      <th>NO</th>\n",
       "      <th>NO2</th>\n",
       "      <th>CO</th>\n",
       "      <th>SO2</th>\n",
       "      <th>AQI</th>\n",
       "      <th>AQI_Bucket</th>\n",
       "    </tr>\n",
       "  </thead>\n",
       "  <tbody>\n",
       "    <tr>\n",
       "      <th>0</th>\n",
       "      <td>Delhi</td>\n",
       "      <td>1/2/2015 0:00</td>\n",
       "      <td>358.68</td>\n",
       "      <td>153.72</td>\n",
       "      <td>43.71</td>\n",
       "      <td>20.02</td>\n",
       "      <td>7.00</td>\n",
       "      <td>501.0</td>\n",
       "      <td>Severe</td>\n",
       "    </tr>\n",
       "    <tr>\n",
       "      <th>1</th>\n",
       "      <td>Delhi</td>\n",
       "      <td>1/2/2015 1:00</td>\n",
       "      <td>444.44</td>\n",
       "      <td>199.28</td>\n",
       "      <td>44.46</td>\n",
       "      <td>27.20</td>\n",
       "      <td>5.17</td>\n",
       "      <td>548.0</td>\n",
       "      <td>Severe</td>\n",
       "    </tr>\n",
       "    <tr>\n",
       "      <th>2</th>\n",
       "      <td>Delhi</td>\n",
       "      <td>1/2/2015 2:00</td>\n",
       "      <td>464.64</td>\n",
       "      <td>241.26</td>\n",
       "      <td>43.69</td>\n",
       "      <td>0.61</td>\n",
       "      <td>6.33</td>\n",
       "      <td>554.0</td>\n",
       "      <td>Severe</td>\n",
       "    </tr>\n",
       "    <tr>\n",
       "      <th>3</th>\n",
       "      <td>Delhi</td>\n",
       "      <td>1/2/2015 3:00</td>\n",
       "      <td>344.05</td>\n",
       "      <td>120.88</td>\n",
       "      <td>40.56</td>\n",
       "      <td>0.55</td>\n",
       "      <td>5.67</td>\n",
       "      <td>558.0</td>\n",
       "      <td>Severe</td>\n",
       "    </tr>\n",
       "    <tr>\n",
       "      <th>4</th>\n",
       "      <td>Delhi</td>\n",
       "      <td>1/2/2015 4:00</td>\n",
       "      <td>358.07</td>\n",
       "      <td>177.31</td>\n",
       "      <td>40.35</td>\n",
       "      <td>0.56</td>\n",
       "      <td>7.67</td>\n",
       "      <td>562.0</td>\n",
       "      <td>Severe</td>\n",
       "    </tr>\n",
       "    <tr>\n",
       "      <th>...</th>\n",
       "      <td>...</td>\n",
       "      <td>...</td>\n",
       "      <td>...</td>\n",
       "      <td>...</td>\n",
       "      <td>...</td>\n",
       "      <td>...</td>\n",
       "      <td>...</td>\n",
       "      <td>...</td>\n",
       "      <td>...</td>\n",
       "    </tr>\n",
       "    <tr>\n",
       "      <th>462675</th>\n",
       "      <td>Visakhapatnam</td>\n",
       "      <td>6/30/2020 20:00</td>\n",
       "      <td>9.50</td>\n",
       "      <td>2.75</td>\n",
       "      <td>25.57</td>\n",
       "      <td>0.62</td>\n",
       "      <td>NaN</td>\n",
       "      <td>51.0</td>\n",
       "      <td>Satisfactory</td>\n",
       "    </tr>\n",
       "    <tr>\n",
       "      <th>462676</th>\n",
       "      <td>Visakhapatnam</td>\n",
       "      <td>6/30/2020 21:00</td>\n",
       "      <td>17.25</td>\n",
       "      <td>3.62</td>\n",
       "      <td>33.20</td>\n",
       "      <td>0.76</td>\n",
       "      <td>2.02</td>\n",
       "      <td>51.0</td>\n",
       "      <td>Satisfactory</td>\n",
       "    </tr>\n",
       "    <tr>\n",
       "      <th>462677</th>\n",
       "      <td>Visakhapatnam</td>\n",
       "      <td>6/30/2020 22:00</td>\n",
       "      <td>36.00</td>\n",
       "      <td>2.20</td>\n",
       "      <td>30.80</td>\n",
       "      <td>0.58</td>\n",
       "      <td>1.77</td>\n",
       "      <td>50.0</td>\n",
       "      <td>Good</td>\n",
       "    </tr>\n",
       "    <tr>\n",
       "      <th>462678</th>\n",
       "      <td>Visakhapatnam</td>\n",
       "      <td>6/30/2020 23:00</td>\n",
       "      <td>15.75</td>\n",
       "      <td>1.02</td>\n",
       "      <td>28.90</td>\n",
       "      <td>0.49</td>\n",
       "      <td>0.75</td>\n",
       "      <td>50.0</td>\n",
       "      <td>Good</td>\n",
       "    </tr>\n",
       "    <tr>\n",
       "      <th>462679</th>\n",
       "      <td>Visakhapatnam</td>\n",
       "      <td>7/1/2020 0:00</td>\n",
       "      <td>15.00</td>\n",
       "      <td>0.40</td>\n",
       "      <td>26.85</td>\n",
       "      <td>0.59</td>\n",
       "      <td>2.10</td>\n",
       "      <td>50.0</td>\n",
       "      <td>Good</td>\n",
       "    </tr>\n",
       "  </tbody>\n",
       "</table>\n",
       "<p>462680 rows × 9 columns</p>\n",
       "</div>"
      ],
      "text/plain": [
       "                 City         Datetime   PM2.5      NO    NO2     CO   SO2  \\\n",
       "0               Delhi    1/2/2015 0:00  358.68  153.72  43.71  20.02  7.00   \n",
       "1               Delhi    1/2/2015 1:00  444.44  199.28  44.46  27.20  5.17   \n",
       "2               Delhi    1/2/2015 2:00  464.64  241.26  43.69   0.61  6.33   \n",
       "3               Delhi    1/2/2015 3:00  344.05  120.88  40.56   0.55  5.67   \n",
       "4               Delhi    1/2/2015 4:00  358.07  177.31  40.35   0.56  7.67   \n",
       "...               ...              ...     ...     ...    ...    ...   ...   \n",
       "462675  Visakhapatnam  6/30/2020 20:00    9.50    2.75  25.57   0.62   NaN   \n",
       "462676  Visakhapatnam  6/30/2020 21:00   17.25    3.62  33.20   0.76  2.02   \n",
       "462677  Visakhapatnam  6/30/2020 22:00   36.00    2.20  30.80   0.58  1.77   \n",
       "462678  Visakhapatnam  6/30/2020 23:00   15.75    1.02  28.90   0.49  0.75   \n",
       "462679  Visakhapatnam    7/1/2020 0:00   15.00    0.40  26.85   0.59  2.10   \n",
       "\n",
       "          AQI    AQI_Bucket  \n",
       "0       501.0        Severe  \n",
       "1       548.0        Severe  \n",
       "2       554.0        Severe  \n",
       "3       558.0        Severe  \n",
       "4       562.0        Severe  \n",
       "...       ...           ...  \n",
       "462675   51.0  Satisfactory  \n",
       "462676   51.0  Satisfactory  \n",
       "462677   50.0          Good  \n",
       "462678   50.0          Good  \n",
       "462679   50.0          Good  \n",
       "\n",
       "[462680 rows x 9 columns]"
      ]
     },
     "execution_count": 8,
     "metadata": {},
     "output_type": "execute_result"
    }
   ],
   "source": [
    "df"
   ]
  },
  {
   "cell_type": "code",
   "execution_count": 9,
   "metadata": {},
   "outputs": [
    {
     "name": "stdout",
     "output_type": "stream",
     "text": [
      "<class 'pandas.core.frame.DataFrame'>\n",
      "RangeIndex: 462680 entries, 0 to 462679\n",
      "Data columns (total 9 columns):\n",
      " #   Column      Non-Null Count   Dtype  \n",
      "---  ------      --------------   -----  \n",
      " 0   City        462680 non-null  object \n",
      " 1   Datetime    462680 non-null  object \n",
      " 2   PM2.5       361670 non-null  float64\n",
      " 3   NO          382947 non-null  float64\n",
      " 4   NO2         379783 non-null  float64\n",
      " 5   CO          412126 non-null  float64\n",
      " 6   SO2         372422 non-null  float64\n",
      " 7   AQI         372650 non-null  float64\n",
      " 8   AQI_Bucket  372650 non-null  object \n",
      "dtypes: float64(6), object(3)\n",
      "memory usage: 31.8+ MB\n"
     ]
    }
   ],
   "source": [
    "df.info()"
   ]
  },
  {
   "cell_type": "code",
   "execution_count": 10,
   "metadata": {},
   "outputs": [
    {
     "name": "stdout",
     "output_type": "stream",
     "text": [
      "City               0\n",
      "Datetime           0\n",
      "PM2.5         101010\n",
      "NO             79733\n",
      "NO2            82897\n",
      "CO             50554\n",
      "SO2            90258\n",
      "AQI            90030\n",
      "AQI_Bucket     90030\n",
      "dtype: int64\n"
     ]
    }
   ],
   "source": [
    "print(df.isnull().sum())"
   ]
  },
  {
   "cell_type": "code",
   "execution_count": 11,
   "metadata": {},
   "outputs": [
    {
     "name": "stdout",
     "output_type": "stream",
     "text": [
      "<class 'pandas.core.frame.DataFrame'>\n",
      "RangeIndex: 515174 entries, 0 to 515173\n",
      "Data columns (total 6 columns):\n",
      " #   Column           Non-Null Count   Dtype  \n",
      "---  ------           --------------   -----  \n",
      " 0   nodeid           515174 non-null  int64  \n",
      " 1   temperature      515174 non-null  float64\n",
      " 2   humidity         515174 non-null  float64\n",
      " 3   pressure         515174 non-null  float64\n",
      " 4   co2              515174 non-null  int64  \n",
      " 5   devicetimestamp  515174 non-null  int64  \n",
      "dtypes: float64(3), int64(3)\n",
      "memory usage: 23.6 MB\n"
     ]
    }
   ],
   "source": [
    "df1.info()"
   ]
  },
  {
   "cell_type": "code",
   "execution_count": 14,
   "metadata": {
    "colab": {
     "base_uri": "https://localhost:8080/"
    },
    "id": "-cqKw7uFOrqX",
    "outputId": "b6636504-5c05-43f7-9565-1a316fabd0b9"
   },
   "outputs": [
    {
     "data": {
      "text/plain": [
       "Index(['City', 'Datetime', 'PM2.5', 'NO', 'NO2', 'CO', 'SO2', 'AQI',\n",
       "       'AQI_Bucket'],\n",
       "      dtype='object')"
      ]
     },
     "execution_count": 14,
     "metadata": {},
     "output_type": "execute_result"
    }
   ],
   "source": [
    "df.columns"
   ]
  },
  {
   "cell_type": "code",
   "execution_count": 15,
   "metadata": {
    "execution": {
     "iopub.execute_input": "2022-03-31T11:20:28.726777Z",
     "iopub.status.busy": "2022-03-31T11:20:28.726121Z",
     "iopub.status.idle": "2022-03-31T11:20:29.070990Z",
     "shell.execute_reply": "2022-03-31T11:20:29.070383Z",
     "shell.execute_reply.started": "2022-03-31T11:12:00.668143Z"
    },
    "id": "c5a0b125",
    "papermill": {
     "duration": 0.455563,
     "end_time": "2022-03-31T11:20:29.071133",
     "exception": false,
     "start_time": "2022-03-31T11:20:28.615570",
     "status": "completed"
    },
    "tags": []
   },
   "outputs": [],
   "source": [
    "nullvalues = df.isnull().sum().sort_values(ascending=False)\n",
    "# Checking all null values"
   ]
  },
  {
   "cell_type": "code",
   "execution_count": 16,
   "metadata": {
    "colab": {
     "base_uri": "https://localhost:8080/"
    },
    "id": "vEnHmeaEO5LS",
    "outputId": "d60bbd0a-4798-4e3c-864a-30f89b4a38a4"
   },
   "outputs": [
    {
     "data": {
      "text/plain": [
       "PM2.5         101010\n",
       "SO2            90258\n",
       "AQI            90030\n",
       "AQI_Bucket     90030\n",
       "NO2            82897\n",
       "NO             79733\n",
       "CO             50554\n",
       "City               0\n",
       "Datetime           0\n",
       "dtype: int64"
      ]
     },
     "execution_count": 16,
     "metadata": {},
     "output_type": "execute_result"
    }
   ],
   "source": [
    "nullvalues"
   ]
  },
  {
   "cell_type": "code",
   "execution_count": 17,
   "metadata": {
    "id": "G3IEzn5DO8u8"
   },
   "outputs": [],
   "source": [
    "null_values_percentage = (df.isnull().sum()/df.isnull().count()*100).sort_values(ascending=False)"
   ]
  },
  {
   "cell_type": "code",
   "execution_count": 18,
   "metadata": {
    "id": "JhptLDC-PCVl"
   },
   "outputs": [],
   "source": [
    "missing_data_with_percentage = pd.concat([nullvalues, null_values_percentage], axis=1, keys=['Total', 'Percent'])"
   ]
  },
  {
   "cell_type": "code",
   "execution_count": 19,
   "metadata": {
    "colab": {
     "base_uri": "https://localhost:8080/",
     "height": 551
    },
    "id": "wiBg8ll5PHsN",
    "outputId": "9448da4f-d483-4e03-9175-38b06104276f"
   },
   "outputs": [
    {
     "data": {
      "text/html": [
       "<div>\n",
       "<style scoped>\n",
       "    .dataframe tbody tr th:only-of-type {\n",
       "        vertical-align: middle;\n",
       "    }\n",
       "\n",
       "    .dataframe tbody tr th {\n",
       "        vertical-align: top;\n",
       "    }\n",
       "\n",
       "    .dataframe thead th {\n",
       "        text-align: right;\n",
       "    }\n",
       "</style>\n",
       "<table border=\"1\" class=\"dataframe\">\n",
       "  <thead>\n",
       "    <tr style=\"text-align: right;\">\n",
       "      <th></th>\n",
       "      <th>Total</th>\n",
       "      <th>Percent</th>\n",
       "    </tr>\n",
       "  </thead>\n",
       "  <tbody>\n",
       "    <tr>\n",
       "      <th>PM2.5</th>\n",
       "      <td>101010</td>\n",
       "      <td>21.831503</td>\n",
       "    </tr>\n",
       "    <tr>\n",
       "      <th>SO2</th>\n",
       "      <td>90258</td>\n",
       "      <td>19.507651</td>\n",
       "    </tr>\n",
       "    <tr>\n",
       "      <th>AQI</th>\n",
       "      <td>90030</td>\n",
       "      <td>19.458373</td>\n",
       "    </tr>\n",
       "    <tr>\n",
       "      <th>AQI_Bucket</th>\n",
       "      <td>90030</td>\n",
       "      <td>19.458373</td>\n",
       "    </tr>\n",
       "    <tr>\n",
       "      <th>NO2</th>\n",
       "      <td>82897</td>\n",
       "      <td>17.916703</td>\n",
       "    </tr>\n",
       "    <tr>\n",
       "      <th>NO</th>\n",
       "      <td>79733</td>\n",
       "      <td>17.232861</td>\n",
       "    </tr>\n",
       "    <tr>\n",
       "      <th>CO</th>\n",
       "      <td>50554</td>\n",
       "      <td>10.926342</td>\n",
       "    </tr>\n",
       "    <tr>\n",
       "      <th>City</th>\n",
       "      <td>0</td>\n",
       "      <td>0.000000</td>\n",
       "    </tr>\n",
       "    <tr>\n",
       "      <th>Datetime</th>\n",
       "      <td>0</td>\n",
       "      <td>0.000000</td>\n",
       "    </tr>\n",
       "  </tbody>\n",
       "</table>\n",
       "</div>"
      ],
      "text/plain": [
       "             Total    Percent\n",
       "PM2.5       101010  21.831503\n",
       "SO2          90258  19.507651\n",
       "AQI          90030  19.458373\n",
       "AQI_Bucket   90030  19.458373\n",
       "NO2          82897  17.916703\n",
       "NO           79733  17.232861\n",
       "CO           50554  10.926342\n",
       "City             0   0.000000\n",
       "Datetime         0   0.000000"
      ]
     },
     "execution_count": 19,
     "metadata": {},
     "output_type": "execute_result"
    }
   ],
   "source": [
    "missing_data_with_percentage"
   ]
  },
  {
   "cell_type": "code",
   "execution_count": 20,
   "metadata": {
    "id": "5LdlKuNxPQWq"
   },
   "outputs": [],
   "source": [
    "df.drop(['City'] , axis=1,  inplace=True)\n",
    "df.drop(['NO'] , axis=1,  inplace=True)\n",
    "df.drop(['SO2'] , axis=1,  inplace=True)\n",
    "df.drop(['NO2'], axis=1,  inplace=True)"
   ]
  },
  {
   "cell_type": "code",
   "execution_count": 21,
   "metadata": {
    "colab": {
     "base_uri": "https://localhost:8080/"
    },
    "id": "UKDnuMzew-yV",
    "outputId": "cfcbc128-2132-4991-dcae-0f062f756fdd"
   },
   "outputs": [
    {
     "data": {
      "text/plain": [
       "Datetime           0\n",
       "PM2.5         101010\n",
       "CO             50554\n",
       "AQI            90030\n",
       "AQI_Bucket     90030\n",
       "dtype: int64"
      ]
     },
     "execution_count": 21,
     "metadata": {},
     "output_type": "execute_result"
    }
   ],
   "source": [
    "df.isnull().sum()"
   ]
  },
  {
   "cell_type": "code",
   "execution_count": 22,
   "metadata": {
    "colab": {
     "base_uri": "https://localhost:8080/",
     "height": 424
    },
    "id": "GYQ_CHRfxBXo",
    "outputId": "50c6170f-23f0-44fd-b1e6-a5ab7612e1b3"
   },
   "outputs": [
    {
     "data": {
      "text/html": [
       "<div>\n",
       "<style scoped>\n",
       "    .dataframe tbody tr th:only-of-type {\n",
       "        vertical-align: middle;\n",
       "    }\n",
       "\n",
       "    .dataframe tbody tr th {\n",
       "        vertical-align: top;\n",
       "    }\n",
       "\n",
       "    .dataframe thead th {\n",
       "        text-align: right;\n",
       "    }\n",
       "</style>\n",
       "<table border=\"1\" class=\"dataframe\">\n",
       "  <thead>\n",
       "    <tr style=\"text-align: right;\">\n",
       "      <th></th>\n",
       "      <th>Datetime</th>\n",
       "      <th>PM2.5</th>\n",
       "      <th>CO</th>\n",
       "      <th>AQI</th>\n",
       "      <th>AQI_Bucket</th>\n",
       "    </tr>\n",
       "  </thead>\n",
       "  <tbody>\n",
       "    <tr>\n",
       "      <th>0</th>\n",
       "      <td>1/2/2015 0:00</td>\n",
       "      <td>358.68</td>\n",
       "      <td>20.02</td>\n",
       "      <td>501.0</td>\n",
       "      <td>Severe</td>\n",
       "    </tr>\n",
       "    <tr>\n",
       "      <th>1</th>\n",
       "      <td>1/2/2015 1:00</td>\n",
       "      <td>444.44</td>\n",
       "      <td>27.20</td>\n",
       "      <td>548.0</td>\n",
       "      <td>Severe</td>\n",
       "    </tr>\n",
       "    <tr>\n",
       "      <th>2</th>\n",
       "      <td>1/2/2015 2:00</td>\n",
       "      <td>464.64</td>\n",
       "      <td>0.61</td>\n",
       "      <td>554.0</td>\n",
       "      <td>Severe</td>\n",
       "    </tr>\n",
       "    <tr>\n",
       "      <th>3</th>\n",
       "      <td>1/2/2015 3:00</td>\n",
       "      <td>344.05</td>\n",
       "      <td>0.55</td>\n",
       "      <td>558.0</td>\n",
       "      <td>Severe</td>\n",
       "    </tr>\n",
       "    <tr>\n",
       "      <th>4</th>\n",
       "      <td>1/2/2015 4:00</td>\n",
       "      <td>358.07</td>\n",
       "      <td>0.56</td>\n",
       "      <td>562.0</td>\n",
       "      <td>Severe</td>\n",
       "    </tr>\n",
       "    <tr>\n",
       "      <th>...</th>\n",
       "      <td>...</td>\n",
       "      <td>...</td>\n",
       "      <td>...</td>\n",
       "      <td>...</td>\n",
       "      <td>...</td>\n",
       "    </tr>\n",
       "    <tr>\n",
       "      <th>462675</th>\n",
       "      <td>6/30/2020 20:00</td>\n",
       "      <td>9.50</td>\n",
       "      <td>0.62</td>\n",
       "      <td>51.0</td>\n",
       "      <td>Satisfactory</td>\n",
       "    </tr>\n",
       "    <tr>\n",
       "      <th>462676</th>\n",
       "      <td>6/30/2020 21:00</td>\n",
       "      <td>17.25</td>\n",
       "      <td>0.76</td>\n",
       "      <td>51.0</td>\n",
       "      <td>Satisfactory</td>\n",
       "    </tr>\n",
       "    <tr>\n",
       "      <th>462677</th>\n",
       "      <td>6/30/2020 22:00</td>\n",
       "      <td>36.00</td>\n",
       "      <td>0.58</td>\n",
       "      <td>50.0</td>\n",
       "      <td>Good</td>\n",
       "    </tr>\n",
       "    <tr>\n",
       "      <th>462678</th>\n",
       "      <td>6/30/2020 23:00</td>\n",
       "      <td>15.75</td>\n",
       "      <td>0.49</td>\n",
       "      <td>50.0</td>\n",
       "      <td>Good</td>\n",
       "    </tr>\n",
       "    <tr>\n",
       "      <th>462679</th>\n",
       "      <td>7/1/2020 0:00</td>\n",
       "      <td>15.00</td>\n",
       "      <td>0.59</td>\n",
       "      <td>50.0</td>\n",
       "      <td>Good</td>\n",
       "    </tr>\n",
       "  </tbody>\n",
       "</table>\n",
       "<p>462680 rows × 5 columns</p>\n",
       "</div>"
      ],
      "text/plain": [
       "               Datetime   PM2.5     CO    AQI    AQI_Bucket\n",
       "0         1/2/2015 0:00  358.68  20.02  501.0        Severe\n",
       "1         1/2/2015 1:00  444.44  27.20  548.0        Severe\n",
       "2         1/2/2015 2:00  464.64   0.61  554.0        Severe\n",
       "3         1/2/2015 3:00  344.05   0.55  558.0        Severe\n",
       "4         1/2/2015 4:00  358.07   0.56  562.0        Severe\n",
       "...                 ...     ...    ...    ...           ...\n",
       "462675  6/30/2020 20:00    9.50   0.62   51.0  Satisfactory\n",
       "462676  6/30/2020 21:00   17.25   0.76   51.0  Satisfactory\n",
       "462677  6/30/2020 22:00   36.00   0.58   50.0          Good\n",
       "462678  6/30/2020 23:00   15.75   0.49   50.0          Good\n",
       "462679    7/1/2020 0:00   15.00   0.59   50.0          Good\n",
       "\n",
       "[462680 rows x 5 columns]"
      ]
     },
     "execution_count": 22,
     "metadata": {},
     "output_type": "execute_result"
    }
   ],
   "source": [
    "df"
   ]
  },
  {
   "cell_type": "code",
   "execution_count": 23,
   "metadata": {},
   "outputs": [],
   "source": [
    "df['PM2.5'] = round(df['PM2.5'],1)\n",
    "df['CO'] = round(df['CO'],1)"
   ]
  },
  {
   "cell_type": "code",
   "execution_count": 24,
   "metadata": {},
   "outputs": [
    {
     "data": {
      "text/html": [
       "<div>\n",
       "<style scoped>\n",
       "    .dataframe tbody tr th:only-of-type {\n",
       "        vertical-align: middle;\n",
       "    }\n",
       "\n",
       "    .dataframe tbody tr th {\n",
       "        vertical-align: top;\n",
       "    }\n",
       "\n",
       "    .dataframe thead th {\n",
       "        text-align: right;\n",
       "    }\n",
       "</style>\n",
       "<table border=\"1\" class=\"dataframe\">\n",
       "  <thead>\n",
       "    <tr style=\"text-align: right;\">\n",
       "      <th></th>\n",
       "      <th>Datetime</th>\n",
       "      <th>PM2.5</th>\n",
       "      <th>CO</th>\n",
       "      <th>AQI</th>\n",
       "      <th>AQI_Bucket</th>\n",
       "    </tr>\n",
       "  </thead>\n",
       "  <tbody>\n",
       "    <tr>\n",
       "      <th>0</th>\n",
       "      <td>1/2/2015 0:00</td>\n",
       "      <td>358.7</td>\n",
       "      <td>20.0</td>\n",
       "      <td>501.0</td>\n",
       "      <td>Severe</td>\n",
       "    </tr>\n",
       "    <tr>\n",
       "      <th>1</th>\n",
       "      <td>1/2/2015 1:00</td>\n",
       "      <td>444.4</td>\n",
       "      <td>27.2</td>\n",
       "      <td>548.0</td>\n",
       "      <td>Severe</td>\n",
       "    </tr>\n",
       "    <tr>\n",
       "      <th>2</th>\n",
       "      <td>1/2/2015 2:00</td>\n",
       "      <td>464.6</td>\n",
       "      <td>0.6</td>\n",
       "      <td>554.0</td>\n",
       "      <td>Severe</td>\n",
       "    </tr>\n",
       "    <tr>\n",
       "      <th>3</th>\n",
       "      <td>1/2/2015 3:00</td>\n",
       "      <td>344.0</td>\n",
       "      <td>0.6</td>\n",
       "      <td>558.0</td>\n",
       "      <td>Severe</td>\n",
       "    </tr>\n",
       "    <tr>\n",
       "      <th>4</th>\n",
       "      <td>1/2/2015 4:00</td>\n",
       "      <td>358.1</td>\n",
       "      <td>0.6</td>\n",
       "      <td>562.0</td>\n",
       "      <td>Severe</td>\n",
       "    </tr>\n",
       "    <tr>\n",
       "      <th>...</th>\n",
       "      <td>...</td>\n",
       "      <td>...</td>\n",
       "      <td>...</td>\n",
       "      <td>...</td>\n",
       "      <td>...</td>\n",
       "    </tr>\n",
       "    <tr>\n",
       "      <th>462675</th>\n",
       "      <td>6/30/2020 20:00</td>\n",
       "      <td>9.5</td>\n",
       "      <td>0.6</td>\n",
       "      <td>51.0</td>\n",
       "      <td>Satisfactory</td>\n",
       "    </tr>\n",
       "    <tr>\n",
       "      <th>462676</th>\n",
       "      <td>6/30/2020 21:00</td>\n",
       "      <td>17.2</td>\n",
       "      <td>0.8</td>\n",
       "      <td>51.0</td>\n",
       "      <td>Satisfactory</td>\n",
       "    </tr>\n",
       "    <tr>\n",
       "      <th>462677</th>\n",
       "      <td>6/30/2020 22:00</td>\n",
       "      <td>36.0</td>\n",
       "      <td>0.6</td>\n",
       "      <td>50.0</td>\n",
       "      <td>Good</td>\n",
       "    </tr>\n",
       "    <tr>\n",
       "      <th>462678</th>\n",
       "      <td>6/30/2020 23:00</td>\n",
       "      <td>15.8</td>\n",
       "      <td>0.5</td>\n",
       "      <td>50.0</td>\n",
       "      <td>Good</td>\n",
       "    </tr>\n",
       "    <tr>\n",
       "      <th>462679</th>\n",
       "      <td>7/1/2020 0:00</td>\n",
       "      <td>15.0</td>\n",
       "      <td>0.6</td>\n",
       "      <td>50.0</td>\n",
       "      <td>Good</td>\n",
       "    </tr>\n",
       "  </tbody>\n",
       "</table>\n",
       "<p>462680 rows × 5 columns</p>\n",
       "</div>"
      ],
      "text/plain": [
       "               Datetime  PM2.5    CO    AQI    AQI_Bucket\n",
       "0         1/2/2015 0:00  358.7  20.0  501.0        Severe\n",
       "1         1/2/2015 1:00  444.4  27.2  548.0        Severe\n",
       "2         1/2/2015 2:00  464.6   0.6  554.0        Severe\n",
       "3         1/2/2015 3:00  344.0   0.6  558.0        Severe\n",
       "4         1/2/2015 4:00  358.1   0.6  562.0        Severe\n",
       "...                 ...    ...   ...    ...           ...\n",
       "462675  6/30/2020 20:00    9.5   0.6   51.0  Satisfactory\n",
       "462676  6/30/2020 21:00   17.2   0.8   51.0  Satisfactory\n",
       "462677  6/30/2020 22:00   36.0   0.6   50.0          Good\n",
       "462678  6/30/2020 23:00   15.8   0.5   50.0          Good\n",
       "462679    7/1/2020 0:00   15.0   0.6   50.0          Good\n",
       "\n",
       "[462680 rows x 5 columns]"
      ]
     },
     "execution_count": 24,
     "metadata": {},
     "output_type": "execute_result"
    }
   ],
   "source": [
    "df"
   ]
  },
  {
   "cell_type": "code",
   "execution_count": 25,
   "metadata": {},
   "outputs": [
    {
     "data": {
      "text/html": [
       "<div>\n",
       "<style scoped>\n",
       "    .dataframe tbody tr th:only-of-type {\n",
       "        vertical-align: middle;\n",
       "    }\n",
       "\n",
       "    .dataframe tbody tr th {\n",
       "        vertical-align: top;\n",
       "    }\n",
       "\n",
       "    .dataframe thead th {\n",
       "        text-align: right;\n",
       "    }\n",
       "</style>\n",
       "<table border=\"1\" class=\"dataframe\">\n",
       "  <thead>\n",
       "    <tr style=\"text-align: right;\">\n",
       "      <th></th>\n",
       "      <th>co2</th>\n",
       "      <th>Datetime</th>\n",
       "      <th>PM2.5</th>\n",
       "      <th>CO</th>\n",
       "      <th>AQI</th>\n",
       "      <th>AQI_Bucket</th>\n",
       "    </tr>\n",
       "  </thead>\n",
       "  <tbody>\n",
       "    <tr>\n",
       "      <th>0</th>\n",
       "      <td>395</td>\n",
       "      <td>1/2/2015 0:00</td>\n",
       "      <td>358.7</td>\n",
       "      <td>20.0</td>\n",
       "      <td>501.0</td>\n",
       "      <td>Severe</td>\n",
       "    </tr>\n",
       "    <tr>\n",
       "      <th>1</th>\n",
       "      <td>395</td>\n",
       "      <td>1/2/2015 1:00</td>\n",
       "      <td>444.4</td>\n",
       "      <td>27.2</td>\n",
       "      <td>548.0</td>\n",
       "      <td>Severe</td>\n",
       "    </tr>\n",
       "    <tr>\n",
       "      <th>2</th>\n",
       "      <td>395</td>\n",
       "      <td>1/2/2015 2:00</td>\n",
       "      <td>464.6</td>\n",
       "      <td>0.6</td>\n",
       "      <td>554.0</td>\n",
       "      <td>Severe</td>\n",
       "    </tr>\n",
       "    <tr>\n",
       "      <th>3</th>\n",
       "      <td>395</td>\n",
       "      <td>1/2/2015 3:00</td>\n",
       "      <td>344.0</td>\n",
       "      <td>0.6</td>\n",
       "      <td>558.0</td>\n",
       "      <td>Severe</td>\n",
       "    </tr>\n",
       "    <tr>\n",
       "      <th>4</th>\n",
       "      <td>395</td>\n",
       "      <td>1/2/2015 4:00</td>\n",
       "      <td>358.1</td>\n",
       "      <td>0.6</td>\n",
       "      <td>562.0</td>\n",
       "      <td>Severe</td>\n",
       "    </tr>\n",
       "    <tr>\n",
       "      <th>...</th>\n",
       "      <td>...</td>\n",
       "      <td>...</td>\n",
       "      <td>...</td>\n",
       "      <td>...</td>\n",
       "      <td>...</td>\n",
       "      <td>...</td>\n",
       "    </tr>\n",
       "    <tr>\n",
       "      <th>462675</th>\n",
       "      <td>410</td>\n",
       "      <td>6/30/2020 20:00</td>\n",
       "      <td>9.5</td>\n",
       "      <td>0.6</td>\n",
       "      <td>51.0</td>\n",
       "      <td>Satisfactory</td>\n",
       "    </tr>\n",
       "    <tr>\n",
       "      <th>462676</th>\n",
       "      <td>410</td>\n",
       "      <td>6/30/2020 21:00</td>\n",
       "      <td>17.2</td>\n",
       "      <td>0.8</td>\n",
       "      <td>51.0</td>\n",
       "      <td>Satisfactory</td>\n",
       "    </tr>\n",
       "    <tr>\n",
       "      <th>462677</th>\n",
       "      <td>411</td>\n",
       "      <td>6/30/2020 22:00</td>\n",
       "      <td>36.0</td>\n",
       "      <td>0.6</td>\n",
       "      <td>50.0</td>\n",
       "      <td>Good</td>\n",
       "    </tr>\n",
       "    <tr>\n",
       "      <th>462678</th>\n",
       "      <td>411</td>\n",
       "      <td>6/30/2020 23:00</td>\n",
       "      <td>15.8</td>\n",
       "      <td>0.5</td>\n",
       "      <td>50.0</td>\n",
       "      <td>Good</td>\n",
       "    </tr>\n",
       "    <tr>\n",
       "      <th>462679</th>\n",
       "      <td>410</td>\n",
       "      <td>7/1/2020 0:00</td>\n",
       "      <td>15.0</td>\n",
       "      <td>0.6</td>\n",
       "      <td>50.0</td>\n",
       "      <td>Good</td>\n",
       "    </tr>\n",
       "  </tbody>\n",
       "</table>\n",
       "<p>462680 rows × 6 columns</p>\n",
       "</div>"
      ],
      "text/plain": [
       "        co2         Datetime  PM2.5    CO    AQI    AQI_Bucket\n",
       "0       395    1/2/2015 0:00  358.7  20.0  501.0        Severe\n",
       "1       395    1/2/2015 1:00  444.4  27.2  548.0        Severe\n",
       "2       395    1/2/2015 2:00  464.6   0.6  554.0        Severe\n",
       "3       395    1/2/2015 3:00  344.0   0.6  558.0        Severe\n",
       "4       395    1/2/2015 4:00  358.1   0.6  562.0        Severe\n",
       "...     ...              ...    ...   ...    ...           ...\n",
       "462675  410  6/30/2020 20:00    9.5   0.6   51.0  Satisfactory\n",
       "462676  410  6/30/2020 21:00   17.2   0.8   51.0  Satisfactory\n",
       "462677  411  6/30/2020 22:00   36.0   0.6   50.0          Good\n",
       "462678  411  6/30/2020 23:00   15.8   0.5   50.0          Good\n",
       "462679  410    7/1/2020 0:00   15.0   0.6   50.0          Good\n",
       "\n",
       "[462680 rows x 6 columns]"
      ]
     },
     "execution_count": 25,
     "metadata": {},
     "output_type": "execute_result"
    }
   ],
   "source": [
    "df = pd.concat([df0, df], axis=1)\n",
    "df"
   ]
  },
  {
   "cell_type": "code",
   "execution_count": 26,
   "metadata": {},
   "outputs": [],
   "source": [
    "df = df.loc[:, ~df.columns.duplicated()]"
   ]
  },
  {
   "cell_type": "code",
   "execution_count": 27,
   "metadata": {},
   "outputs": [
    {
     "name": "stdout",
     "output_type": "stream",
     "text": [
      "0         358.7\n",
      "1         444.4\n",
      "2         464.6\n",
      "3         344.0\n",
      "4         358.1\n",
      "          ...  \n",
      "462675      9.5\n",
      "462676     17.2\n",
      "462677     36.0\n",
      "462678     15.8\n",
      "462679     15.0\n",
      "Name: PM2.5, Length: 462680, dtype: float64\n"
     ]
    }
   ],
   "source": [
    "print(df['PM2.5'])"
   ]
  },
  {
   "cell_type": "code",
   "execution_count": 28,
   "metadata": {},
   "outputs": [],
   "source": [
    "df['PM2.5'].fillna(df['PM2.5'].mode()[0], inplace=True)\n",
    "df['CO'].fillna(df['CO'].mode()[0], inplace=True)\n",
    "df['AQI'].fillna(df['AQI'].mode()[0], inplace=True)\n",
    "df['AQI_Bucket'].fillna(df['PM2.5'].mode()[0], inplace=True)"
   ]
  },
  {
   "cell_type": "code",
   "execution_count": 29,
   "metadata": {
    "colab": {
     "base_uri": "https://localhost:8080/"
    },
    "id": "vQzyIrkuyL0i",
    "outputId": "e6545b86-0e29-4244-ec7c-0821273c626e"
   },
   "outputs": [
    {
     "data": {
      "text/plain": [
       "co2           0\n",
       "Datetime      0\n",
       "PM2.5         0\n",
       "CO            0\n",
       "AQI           0\n",
       "AQI_Bucket    0\n",
       "dtype: int64"
      ]
     },
     "execution_count": 29,
     "metadata": {},
     "output_type": "execute_result"
    }
   ],
   "source": [
    "df.isnull().sum()"
   ]
  },
  {
   "cell_type": "markdown",
   "metadata": {
    "colab": {
     "base_uri": "https://localhost:8080/",
     "height": 206
    },
    "id": "0oW395NByYEC",
    "outputId": "1dee3755-6be6-44a5-f45d-9717dd2932ff"
   },
   "source": [
    "def cal_Oi(O3):\n",
    "    oi=0\n",
    "    if(O3<=40):\n",
    "     oi= O3*50/40\n",
    "    elif(O3>40 and O3<=80):\n",
    "     oi= 50+(O3-40)*(50/40)\n",
    "    elif(O3>80 and O3<=180):\n",
    "     oi= 100+(O3-80)*(100/100)\n",
    "    elif(O3>180 and O3<=280):\n",
    "     oi= 200+(O3-180)*(100/100)\n",
    "    elif(O3>280 and O3<=400):\n",
    "     oi= 300+(O3-280)*(100/120)\n",
    "    else:\n",
    "     oi= 400+(O3-400)*(100/120)\n",
    "    return oi\n",
    "df['Oi']=df['O3'].apply(cal_Oi)\n",
    "data= df[['O3','Oi']]\n",
    "data.head()"
   ]
  },
  {
   "cell_type": "code",
   "execution_count": 30,
   "metadata": {
    "colab": {
     "base_uri": "https://localhost:8080/",
     "height": 206
    },
    "id": "0xgEPtcR40XB",
    "outputId": "fbc8a0fd-5486-4e23-931c-e4665187f5b6"
   },
   "outputs": [
    {
     "data": {
      "text/html": [
       "<div>\n",
       "<style scoped>\n",
       "    .dataframe tbody tr th:only-of-type {\n",
       "        vertical-align: middle;\n",
       "    }\n",
       "\n",
       "    .dataframe tbody tr th {\n",
       "        vertical-align: top;\n",
       "    }\n",
       "\n",
       "    .dataframe thead th {\n",
       "        text-align: right;\n",
       "    }\n",
       "</style>\n",
       "<table border=\"1\" class=\"dataframe\">\n",
       "  <thead>\n",
       "    <tr style=\"text-align: right;\">\n",
       "      <th></th>\n",
       "      <th>CO</th>\n",
       "      <th>COi</th>\n",
       "    </tr>\n",
       "  </thead>\n",
       "  <tbody>\n",
       "    <tr>\n",
       "      <th>0</th>\n",
       "      <td>20.0</td>\n",
       "      <td>230.9</td>\n",
       "    </tr>\n",
       "    <tr>\n",
       "      <th>1</th>\n",
       "      <td>27.2</td>\n",
       "      <td>278.7</td>\n",
       "    </tr>\n",
       "    <tr>\n",
       "      <th>2</th>\n",
       "      <td>0.6</td>\n",
       "      <td>6.8</td>\n",
       "    </tr>\n",
       "    <tr>\n",
       "      <th>3</th>\n",
       "      <td>0.6</td>\n",
       "      <td>6.8</td>\n",
       "    </tr>\n",
       "    <tr>\n",
       "      <th>4</th>\n",
       "      <td>0.6</td>\n",
       "      <td>6.8</td>\n",
       "    </tr>\n",
       "  </tbody>\n",
       "</table>\n",
       "</div>"
      ],
      "text/plain": [
       "     CO    COi\n",
       "0  20.0  230.9\n",
       "1  27.2  278.7\n",
       "2   0.6    6.8\n",
       "3   0.6    6.8\n",
       "4   0.6    6.8"
      ]
     },
     "execution_count": 30,
     "metadata": {},
     "output_type": "execute_result"
    }
   ],
   "source": [
    "def cal_COi(CO):\n",
    "    if(CO<=4.4):\n",
    "        COi = (50/4.4)*CO\n",
    "    \n",
    "    elif(CO<=9.4):\n",
    "        COi= ((49/4.9)*(CO-4.5))+51\n",
    "    \n",
    "    elif(CO<=12.4):\n",
    "        COi= ((49/2.9)*(CO-9.5))+101\n",
    "    \n",
    "    elif(CO<=15.4):\n",
    "        COi= ((49/2.9)*(CO-12.5))+151\n",
    "    \n",
    "    elif(CO<=30.4):\n",
    "        COi= ((99/14.9)*(CO-15.5))+201\n",
    "    \n",
    "    elif(CO<=40.4):\n",
    "        COi= ((99/9.9)*(CO-30.5))+301\n",
    "    \n",
    "    elif(CO<=50.4):\n",
    "        COi= ((99/9.9)*(CO-40.5))+401\n",
    "   \n",
    "    else:\n",
    "        COi= 500\n",
    "    \n",
    "    return COi\n",
    "\n",
    "df['COi']=df['CO'].apply(cal_COi)\n",
    "df['COi']= round(df['COi'],1)\n",
    "data= df[['CO','COi']]\n",
    "data.head()"
   ]
  },
  {
   "cell_type": "code",
   "execution_count": 31,
   "metadata": {
    "colab": {
     "base_uri": "https://localhost:8080/",
     "height": 206
    },
    "id": "xPhSgJEKzckR",
    "outputId": "369e8e6e-bbac-4cd8-f482-e7ffa0e7c386"
   },
   "outputs": [
    {
     "data": {
      "text/html": [
       "<div>\n",
       "<style scoped>\n",
       "    .dataframe tbody tr th:only-of-type {\n",
       "        vertical-align: middle;\n",
       "    }\n",
       "\n",
       "    .dataframe tbody tr th {\n",
       "        vertical-align: top;\n",
       "    }\n",
       "\n",
       "    .dataframe thead th {\n",
       "        text-align: right;\n",
       "    }\n",
       "</style>\n",
       "<table border=\"1\" class=\"dataframe\">\n",
       "  <thead>\n",
       "    <tr style=\"text-align: right;\">\n",
       "      <th></th>\n",
       "      <th>PM2.5</th>\n",
       "      <th>PMi</th>\n",
       "    </tr>\n",
       "  </thead>\n",
       "  <tbody>\n",
       "    <tr>\n",
       "      <th>0</th>\n",
       "      <td>358.7</td>\n",
       "      <td>406.4</td>\n",
       "    </tr>\n",
       "    <tr>\n",
       "      <th>1</th>\n",
       "      <td>444.4</td>\n",
       "      <td>463.0</td>\n",
       "    </tr>\n",
       "    <tr>\n",
       "      <th>2</th>\n",
       "      <td>464.6</td>\n",
       "      <td>476.4</td>\n",
       "    </tr>\n",
       "    <tr>\n",
       "      <th>3</th>\n",
       "      <td>344.0</td>\n",
       "      <td>393.7</td>\n",
       "    </tr>\n",
       "    <tr>\n",
       "      <th>4</th>\n",
       "      <td>358.1</td>\n",
       "      <td>406.0</td>\n",
       "    </tr>\n",
       "    <tr>\n",
       "      <th>...</th>\n",
       "      <td>...</td>\n",
       "      <td>...</td>\n",
       "    </tr>\n",
       "    <tr>\n",
       "      <th>462675</th>\n",
       "      <td>9.5</td>\n",
       "      <td>39.6</td>\n",
       "    </tr>\n",
       "    <tr>\n",
       "      <th>462676</th>\n",
       "      <td>17.2</td>\n",
       "      <td>61.7</td>\n",
       "    </tr>\n",
       "    <tr>\n",
       "      <th>462677</th>\n",
       "      <td>36.0</td>\n",
       "      <td>102.2</td>\n",
       "    </tr>\n",
       "    <tr>\n",
       "      <th>462678</th>\n",
       "      <td>15.8</td>\n",
       "      <td>58.8</td>\n",
       "    </tr>\n",
       "    <tr>\n",
       "      <th>462679</th>\n",
       "      <td>15.0</td>\n",
       "      <td>57.1</td>\n",
       "    </tr>\n",
       "  </tbody>\n",
       "</table>\n",
       "<p>462680 rows × 2 columns</p>\n",
       "</div>"
      ],
      "text/plain": [
       "        PM2.5    PMi\n",
       "0       358.7  406.4\n",
       "1       444.4  463.0\n",
       "2       464.6  476.4\n",
       "3       344.0  393.7\n",
       "4       358.1  406.0\n",
       "...       ...    ...\n",
       "462675    9.5   39.6\n",
       "462676   17.2   61.7\n",
       "462677   36.0  102.2\n",
       "462678   15.8   58.8\n",
       "462679   15.0   57.1\n",
       "\n",
       "[462680 rows x 2 columns]"
      ]
     },
     "execution_count": 31,
     "metadata": {},
     "output_type": "execute_result"
    }
   ],
   "source": [
    "def cal_PMi(PM):\n",
    "    PMi =0\n",
    "    \n",
    "    if(PM<=12):\n",
    "        PMi = (50/12)*PM\n",
    "    \n",
    "    elif(PM<=35.4):\n",
    "        PMi= ((49/23.3)*(PM-12.1))+51\n",
    "    \n",
    "    elif(PM<=55.4):\n",
    "        PMi= ((49/19.9)*(PM-35.5))+101\n",
    "    \n",
    "    elif(PM<=150.4):\n",
    "        PMi= ((49/94.9)*(PM-55.4))+151\n",
    "    \n",
    "    elif(PM<=250.4):\n",
    "        PMi= ((99/99.9)*(PM-150.5))+201\n",
    "    \n",
    "    elif(PM<=350.4):\n",
    "        PMi= ((99/99.9)*(PM-250.5))+301\n",
    "    \n",
    "    elif(PM<=500.4):\n",
    "        PMi= ((99/149.9)*(PM-350.5))+401\n",
    "   \n",
    "    else:\n",
    "        PMi= 500\n",
    "    \n",
    "    return PMi\n",
    "\n",
    "df['PMi']=df['PM2.5'].apply(cal_PMi)\n",
    "df['PMi']= round(df['PMi'],1)\n",
    "data= df[['PM2.5','PMi']]\n",
    "data"
   ]
  },
  {
   "cell_type": "code",
   "execution_count": 32,
   "metadata": {
    "scrolled": true
   },
   "outputs": [
    {
     "data": {
      "text/html": [
       "<div>\n",
       "<style scoped>\n",
       "    .dataframe tbody tr th:only-of-type {\n",
       "        vertical-align: middle;\n",
       "    }\n",
       "\n",
       "    .dataframe tbody tr th {\n",
       "        vertical-align: top;\n",
       "    }\n",
       "\n",
       "    .dataframe thead th {\n",
       "        text-align: right;\n",
       "    }\n",
       "</style>\n",
       "<table border=\"1\" class=\"dataframe\">\n",
       "  <thead>\n",
       "    <tr style=\"text-align: right;\">\n",
       "      <th></th>\n",
       "      <th>co2</th>\n",
       "      <th>CO2i</th>\n",
       "    </tr>\n",
       "  </thead>\n",
       "  <tbody>\n",
       "    <tr>\n",
       "      <th>0</th>\n",
       "      <td>395</td>\n",
       "      <td>49.4</td>\n",
       "    </tr>\n",
       "    <tr>\n",
       "      <th>1</th>\n",
       "      <td>395</td>\n",
       "      <td>49.4</td>\n",
       "    </tr>\n",
       "    <tr>\n",
       "      <th>2</th>\n",
       "      <td>395</td>\n",
       "      <td>49.4</td>\n",
       "    </tr>\n",
       "    <tr>\n",
       "      <th>3</th>\n",
       "      <td>395</td>\n",
       "      <td>49.4</td>\n",
       "    </tr>\n",
       "    <tr>\n",
       "      <th>4</th>\n",
       "      <td>395</td>\n",
       "      <td>49.4</td>\n",
       "    </tr>\n",
       "  </tbody>\n",
       "</table>\n",
       "</div>"
      ],
      "text/plain": [
       "   co2  CO2i\n",
       "0  395  49.4\n",
       "1  395  49.4\n",
       "2  395  49.4\n",
       "3  395  49.4\n",
       "4  395  49.4"
      ]
     },
     "execution_count": 32,
     "metadata": {},
     "output_type": "execute_result"
    }
   ],
   "source": [
    "def cal_CO2i(CO2):\n",
    "    if(CO2<=400):\n",
    "        CO2i = (50/400)*CO2\n",
    "        \n",
    "    \n",
    "    elif(CO2<=1000):\n",
    "        CO2i= ((49/600)*(CO2-400))+51\n",
    "    \n",
    "    elif(CO2<=1500):\n",
    "        CO2i= ((49/500)*(CO2-1000))+101\n",
    "    \n",
    "    elif(CO2<=2000):\n",
    "        CO2i= ((49/500)*(CO2-1500))+151\n",
    "    \n",
    "    elif(CO2<=5000):\n",
    "        CO2i= ((99/3000)*(CO2-2000))+201\n",
    "              \n",
    "    else:\n",
    "        CO2i= 500\n",
    "        \n",
    "    \n",
    "    return CO2i\n",
    "\n",
    "df['CO2i']=df['co2'].apply(cal_CO2i)\n",
    "df['CO2i']= round(df['CO2i'],1)\n",
    "data= df[['co2','CO2i']]\n",
    "data.head()"
   ]
  },
  {
   "cell_type": "code",
   "execution_count": 33,
   "metadata": {},
   "outputs": [],
   "source": [
    "df['AQI'] = df[['PMi', 'COi','CO2i']].max(axis=1)"
   ]
  },
  {
   "cell_type": "code",
   "execution_count": 34,
   "metadata": {},
   "outputs": [
    {
     "data": {
      "text/html": [
       "<div>\n",
       "<style scoped>\n",
       "    .dataframe tbody tr th:only-of-type {\n",
       "        vertical-align: middle;\n",
       "    }\n",
       "\n",
       "    .dataframe tbody tr th {\n",
       "        vertical-align: top;\n",
       "    }\n",
       "\n",
       "    .dataframe thead th {\n",
       "        text-align: right;\n",
       "    }\n",
       "</style>\n",
       "<table border=\"1\" class=\"dataframe\">\n",
       "  <thead>\n",
       "    <tr style=\"text-align: right;\">\n",
       "      <th></th>\n",
       "      <th>co2</th>\n",
       "      <th>Datetime</th>\n",
       "      <th>PM2.5</th>\n",
       "      <th>CO</th>\n",
       "      <th>AQI</th>\n",
       "      <th>AQI_Bucket</th>\n",
       "      <th>COi</th>\n",
       "      <th>PMi</th>\n",
       "      <th>CO2i</th>\n",
       "    </tr>\n",
       "  </thead>\n",
       "  <tbody>\n",
       "    <tr>\n",
       "      <th>0</th>\n",
       "      <td>395</td>\n",
       "      <td>1/2/2015 0:00</td>\n",
       "      <td>358.7</td>\n",
       "      <td>20.0</td>\n",
       "      <td>406.4</td>\n",
       "      <td>Severe</td>\n",
       "      <td>230.9</td>\n",
       "      <td>406.4</td>\n",
       "      <td>49.4</td>\n",
       "    </tr>\n",
       "    <tr>\n",
       "      <th>1</th>\n",
       "      <td>395</td>\n",
       "      <td>1/2/2015 1:00</td>\n",
       "      <td>444.4</td>\n",
       "      <td>27.2</td>\n",
       "      <td>463.0</td>\n",
       "      <td>Severe</td>\n",
       "      <td>278.7</td>\n",
       "      <td>463.0</td>\n",
       "      <td>49.4</td>\n",
       "    </tr>\n",
       "    <tr>\n",
       "      <th>2</th>\n",
       "      <td>395</td>\n",
       "      <td>1/2/2015 2:00</td>\n",
       "      <td>464.6</td>\n",
       "      <td>0.6</td>\n",
       "      <td>476.4</td>\n",
       "      <td>Severe</td>\n",
       "      <td>6.8</td>\n",
       "      <td>476.4</td>\n",
       "      <td>49.4</td>\n",
       "    </tr>\n",
       "    <tr>\n",
       "      <th>3</th>\n",
       "      <td>395</td>\n",
       "      <td>1/2/2015 3:00</td>\n",
       "      <td>344.0</td>\n",
       "      <td>0.6</td>\n",
       "      <td>393.7</td>\n",
       "      <td>Severe</td>\n",
       "      <td>6.8</td>\n",
       "      <td>393.7</td>\n",
       "      <td>49.4</td>\n",
       "    </tr>\n",
       "    <tr>\n",
       "      <th>4</th>\n",
       "      <td>395</td>\n",
       "      <td>1/2/2015 4:00</td>\n",
       "      <td>358.1</td>\n",
       "      <td>0.6</td>\n",
       "      <td>406.0</td>\n",
       "      <td>Severe</td>\n",
       "      <td>6.8</td>\n",
       "      <td>406.0</td>\n",
       "      <td>49.4</td>\n",
       "    </tr>\n",
       "    <tr>\n",
       "      <th>...</th>\n",
       "      <td>...</td>\n",
       "      <td>...</td>\n",
       "      <td>...</td>\n",
       "      <td>...</td>\n",
       "      <td>...</td>\n",
       "      <td>...</td>\n",
       "      <td>...</td>\n",
       "      <td>...</td>\n",
       "      <td>...</td>\n",
       "    </tr>\n",
       "    <tr>\n",
       "      <th>462675</th>\n",
       "      <td>410</td>\n",
       "      <td>6/30/2020 20:00</td>\n",
       "      <td>9.5</td>\n",
       "      <td>0.6</td>\n",
       "      <td>51.8</td>\n",
       "      <td>Satisfactory</td>\n",
       "      <td>6.8</td>\n",
       "      <td>39.6</td>\n",
       "      <td>51.8</td>\n",
       "    </tr>\n",
       "    <tr>\n",
       "      <th>462676</th>\n",
       "      <td>410</td>\n",
       "      <td>6/30/2020 21:00</td>\n",
       "      <td>17.2</td>\n",
       "      <td>0.8</td>\n",
       "      <td>61.7</td>\n",
       "      <td>Satisfactory</td>\n",
       "      <td>9.1</td>\n",
       "      <td>61.7</td>\n",
       "      <td>51.8</td>\n",
       "    </tr>\n",
       "    <tr>\n",
       "      <th>462677</th>\n",
       "      <td>411</td>\n",
       "      <td>6/30/2020 22:00</td>\n",
       "      <td>36.0</td>\n",
       "      <td>0.6</td>\n",
       "      <td>102.2</td>\n",
       "      <td>Good</td>\n",
       "      <td>6.8</td>\n",
       "      <td>102.2</td>\n",
       "      <td>51.9</td>\n",
       "    </tr>\n",
       "    <tr>\n",
       "      <th>462678</th>\n",
       "      <td>411</td>\n",
       "      <td>6/30/2020 23:00</td>\n",
       "      <td>15.8</td>\n",
       "      <td>0.5</td>\n",
       "      <td>58.8</td>\n",
       "      <td>Good</td>\n",
       "      <td>5.7</td>\n",
       "      <td>58.8</td>\n",
       "      <td>51.9</td>\n",
       "    </tr>\n",
       "    <tr>\n",
       "      <th>462679</th>\n",
       "      <td>410</td>\n",
       "      <td>7/1/2020 0:00</td>\n",
       "      <td>15.0</td>\n",
       "      <td>0.6</td>\n",
       "      <td>57.1</td>\n",
       "      <td>Good</td>\n",
       "      <td>6.8</td>\n",
       "      <td>57.1</td>\n",
       "      <td>51.8</td>\n",
       "    </tr>\n",
       "  </tbody>\n",
       "</table>\n",
       "<p>462680 rows × 9 columns</p>\n",
       "</div>"
      ],
      "text/plain": [
       "        co2         Datetime  PM2.5    CO    AQI    AQI_Bucket    COi    PMi  \\\n",
       "0       395    1/2/2015 0:00  358.7  20.0  406.4        Severe  230.9  406.4   \n",
       "1       395    1/2/2015 1:00  444.4  27.2  463.0        Severe  278.7  463.0   \n",
       "2       395    1/2/2015 2:00  464.6   0.6  476.4        Severe    6.8  476.4   \n",
       "3       395    1/2/2015 3:00  344.0   0.6  393.7        Severe    6.8  393.7   \n",
       "4       395    1/2/2015 4:00  358.1   0.6  406.0        Severe    6.8  406.0   \n",
       "...     ...              ...    ...   ...    ...           ...    ...    ...   \n",
       "462675  410  6/30/2020 20:00    9.5   0.6   51.8  Satisfactory    6.8   39.6   \n",
       "462676  410  6/30/2020 21:00   17.2   0.8   61.7  Satisfactory    9.1   61.7   \n",
       "462677  411  6/30/2020 22:00   36.0   0.6  102.2          Good    6.8  102.2   \n",
       "462678  411  6/30/2020 23:00   15.8   0.5   58.8          Good    5.7   58.8   \n",
       "462679  410    7/1/2020 0:00   15.0   0.6   57.1          Good    6.8   57.1   \n",
       "\n",
       "        CO2i  \n",
       "0       49.4  \n",
       "1       49.4  \n",
       "2       49.4  \n",
       "3       49.4  \n",
       "4       49.4  \n",
       "...      ...  \n",
       "462675  51.8  \n",
       "462676  51.8  \n",
       "462677  51.9  \n",
       "462678  51.9  \n",
       "462679  51.8  \n",
       "\n",
       "[462680 rows x 9 columns]"
      ]
     },
     "execution_count": 34,
     "metadata": {},
     "output_type": "execute_result"
    }
   ],
   "source": [
    "df"
   ]
  },
  {
   "cell_type": "code",
   "execution_count": 35,
   "metadata": {},
   "outputs": [
    {
     "data": {
      "text/html": [
       "<div>\n",
       "<style scoped>\n",
       "    .dataframe tbody tr th:only-of-type {\n",
       "        vertical-align: middle;\n",
       "    }\n",
       "\n",
       "    .dataframe tbody tr th {\n",
       "        vertical-align: top;\n",
       "    }\n",
       "\n",
       "    .dataframe thead th {\n",
       "        text-align: right;\n",
       "    }\n",
       "</style>\n",
       "<table border=\"1\" class=\"dataframe\">\n",
       "  <thead>\n",
       "    <tr style=\"text-align: right;\">\n",
       "      <th></th>\n",
       "      <th>co2</th>\n",
       "      <th>Datetime</th>\n",
       "      <th>PM2.5</th>\n",
       "      <th>CO</th>\n",
       "      <th>AQI</th>\n",
       "      <th>AQI_Bucket</th>\n",
       "      <th>COi</th>\n",
       "      <th>PMi</th>\n",
       "      <th>CO2i</th>\n",
       "    </tr>\n",
       "  </thead>\n",
       "  <tbody>\n",
       "    <tr>\n",
       "      <th>0</th>\n",
       "      <td>395</td>\n",
       "      <td>1/2/2015 0:00</td>\n",
       "      <td>358.7</td>\n",
       "      <td>20.0</td>\n",
       "      <td>406.4</td>\n",
       "      <td>Hazardous</td>\n",
       "      <td>230.9</td>\n",
       "      <td>406.4</td>\n",
       "      <td>49.4</td>\n",
       "    </tr>\n",
       "    <tr>\n",
       "      <th>1</th>\n",
       "      <td>395</td>\n",
       "      <td>1/2/2015 1:00</td>\n",
       "      <td>444.4</td>\n",
       "      <td>27.2</td>\n",
       "      <td>463.0</td>\n",
       "      <td>Hazardous</td>\n",
       "      <td>278.7</td>\n",
       "      <td>463.0</td>\n",
       "      <td>49.4</td>\n",
       "    </tr>\n",
       "    <tr>\n",
       "      <th>2</th>\n",
       "      <td>395</td>\n",
       "      <td>1/2/2015 2:00</td>\n",
       "      <td>464.6</td>\n",
       "      <td>0.6</td>\n",
       "      <td>476.4</td>\n",
       "      <td>Hazardous</td>\n",
       "      <td>6.8</td>\n",
       "      <td>476.4</td>\n",
       "      <td>49.4</td>\n",
       "    </tr>\n",
       "    <tr>\n",
       "      <th>3</th>\n",
       "      <td>395</td>\n",
       "      <td>1/2/2015 3:00</td>\n",
       "      <td>344.0</td>\n",
       "      <td>0.6</td>\n",
       "      <td>393.7</td>\n",
       "      <td>Hazardous</td>\n",
       "      <td>6.8</td>\n",
       "      <td>393.7</td>\n",
       "      <td>49.4</td>\n",
       "    </tr>\n",
       "    <tr>\n",
       "      <th>4</th>\n",
       "      <td>395</td>\n",
       "      <td>1/2/2015 4:00</td>\n",
       "      <td>358.1</td>\n",
       "      <td>0.6</td>\n",
       "      <td>406.0</td>\n",
       "      <td>Hazardous</td>\n",
       "      <td>6.8</td>\n",
       "      <td>406.0</td>\n",
       "      <td>49.4</td>\n",
       "    </tr>\n",
       "    <tr>\n",
       "      <th>...</th>\n",
       "      <td>...</td>\n",
       "      <td>...</td>\n",
       "      <td>...</td>\n",
       "      <td>...</td>\n",
       "      <td>...</td>\n",
       "      <td>...</td>\n",
       "      <td>...</td>\n",
       "      <td>...</td>\n",
       "      <td>...</td>\n",
       "    </tr>\n",
       "    <tr>\n",
       "      <th>462675</th>\n",
       "      <td>410</td>\n",
       "      <td>6/30/2020 20:00</td>\n",
       "      <td>9.5</td>\n",
       "      <td>0.6</td>\n",
       "      <td>51.8</td>\n",
       "      <td>Moderate</td>\n",
       "      <td>6.8</td>\n",
       "      <td>39.6</td>\n",
       "      <td>51.8</td>\n",
       "    </tr>\n",
       "    <tr>\n",
       "      <th>462676</th>\n",
       "      <td>410</td>\n",
       "      <td>6/30/2020 21:00</td>\n",
       "      <td>17.2</td>\n",
       "      <td>0.8</td>\n",
       "      <td>61.7</td>\n",
       "      <td>Moderate</td>\n",
       "      <td>9.1</td>\n",
       "      <td>61.7</td>\n",
       "      <td>51.8</td>\n",
       "    </tr>\n",
       "    <tr>\n",
       "      <th>462677</th>\n",
       "      <td>411</td>\n",
       "      <td>6/30/2020 22:00</td>\n",
       "      <td>36.0</td>\n",
       "      <td>0.6</td>\n",
       "      <td>102.2</td>\n",
       "      <td>Unhealthy for Sensitive Group</td>\n",
       "      <td>6.8</td>\n",
       "      <td>102.2</td>\n",
       "      <td>51.9</td>\n",
       "    </tr>\n",
       "    <tr>\n",
       "      <th>462678</th>\n",
       "      <td>411</td>\n",
       "      <td>6/30/2020 23:00</td>\n",
       "      <td>15.8</td>\n",
       "      <td>0.5</td>\n",
       "      <td>58.8</td>\n",
       "      <td>Moderate</td>\n",
       "      <td>5.7</td>\n",
       "      <td>58.8</td>\n",
       "      <td>51.9</td>\n",
       "    </tr>\n",
       "    <tr>\n",
       "      <th>462679</th>\n",
       "      <td>410</td>\n",
       "      <td>7/1/2020 0:00</td>\n",
       "      <td>15.0</td>\n",
       "      <td>0.6</td>\n",
       "      <td>57.1</td>\n",
       "      <td>Moderate</td>\n",
       "      <td>6.8</td>\n",
       "      <td>57.1</td>\n",
       "      <td>51.8</td>\n",
       "    </tr>\n",
       "  </tbody>\n",
       "</table>\n",
       "<p>462680 rows × 9 columns</p>\n",
       "</div>"
      ],
      "text/plain": [
       "        co2         Datetime  PM2.5    CO    AQI  \\\n",
       "0       395    1/2/2015 0:00  358.7  20.0  406.4   \n",
       "1       395    1/2/2015 1:00  444.4  27.2  463.0   \n",
       "2       395    1/2/2015 2:00  464.6   0.6  476.4   \n",
       "3       395    1/2/2015 3:00  344.0   0.6  393.7   \n",
       "4       395    1/2/2015 4:00  358.1   0.6  406.0   \n",
       "...     ...              ...    ...   ...    ...   \n",
       "462675  410  6/30/2020 20:00    9.5   0.6   51.8   \n",
       "462676  410  6/30/2020 21:00   17.2   0.8   61.7   \n",
       "462677  411  6/30/2020 22:00   36.0   0.6  102.2   \n",
       "462678  411  6/30/2020 23:00   15.8   0.5   58.8   \n",
       "462679  410    7/1/2020 0:00   15.0   0.6   57.1   \n",
       "\n",
       "                           AQI_Bucket    COi    PMi  CO2i  \n",
       "0                           Hazardous  230.9  406.4  49.4  \n",
       "1                           Hazardous  278.7  463.0  49.4  \n",
       "2                           Hazardous    6.8  476.4  49.4  \n",
       "3                           Hazardous    6.8  393.7  49.4  \n",
       "4                           Hazardous    6.8  406.0  49.4  \n",
       "...                               ...    ...    ...   ...  \n",
       "462675                       Moderate    6.8   39.6  51.8  \n",
       "462676                       Moderate    9.1   61.7  51.8  \n",
       "462677  Unhealthy for Sensitive Group    6.8  102.2  51.9  \n",
       "462678                       Moderate    5.7   58.8  51.9  \n",
       "462679                       Moderate    6.8   57.1  51.8  \n",
       "\n",
       "[462680 rows x 9 columns]"
      ]
     },
     "execution_count": 35,
     "metadata": {},
     "output_type": "execute_result"
    }
   ],
   "source": [
    "conditions = [\n",
    "    (df['AQI'] <= 50),\n",
    "    (df['AQI'] > 50) & (df['AQI'] <= 100),\n",
    "    (df['AQI'] > 100) & (df['AQI'] <= 150),\n",
    "    (df['AQI'] > 150) & (df['AQI'] <= 200),\n",
    "    (df['AQI'] > 201) & (df['AQI'] <= 300),\n",
    "    (df['AQI'] > 300)\n",
    "]\n",
    "\n",
    "values = ['Good', 'Moderate','Unhealthy for Sensitive Group',  'Unhealthy', 'Very Unhealthy', 'Hazardous']\n",
    "df['AQI_Bucket'] = np.select(conditions, values)\n",
    "df"
   ]
  },
  {
   "cell_type": "code",
   "execution_count": 36,
   "metadata": {},
   "outputs": [
    {
     "data": {
      "image/png": "[encoded data removed]",
      "text/plain": [
       "<Figure size 1000x600 with 1 Axes>"
      ]
     },
     "metadata": {},
     "output_type": "display_data"
    }
   ],
   "source": [
    "plt.figure(figsize=(10, 6))\n",
    "plt.scatter(df['COi'], df['AQI'], label='COi vs. AQI')\n",
    "plt.scatter(df['PMi'], df['AQI'], label='PMi vs. AQI')\n",
    "plt.scatter(df['CO2i'], df['AQI'], label='CO2i vs. AQI')\n",
    "\n",
    "plt.xlabel('COi and PMi and CO2i')\n",
    "plt.ylabel('AQI')\n",
    "plt.title('Scatter Plot')\n",
    "plt.legend()\n",
    "plt.show()"
   ]
  },
  {
   "cell_type": "code",
   "execution_count": 37,
   "metadata": {},
   "outputs": [
    {
     "name": "stdout",
     "output_type": "stream",
     "text": [
      "Correlation Matrix:\n",
      "           COi       PMi      CO2i       AQI\n",
      "COi   1.000000  0.211046 -0.015325  0.255972\n",
      "PMi   0.211046  1.000000  0.011172  0.993163\n",
      "CO2i -0.015325  0.011172  1.000000  0.033154\n",
      "AQI   0.255972  0.993163  0.033154  1.000000\n"
     ]
    }
   ],
   "source": [
    "# Correlation analysis\n",
    "corr_matrix = df[['COi', 'PMi', 'CO2i' ,'AQI']].corr()\n",
    "print('Correlation Matrix:')\n",
    "print(corr_matrix)"
   ]
  },
  {
   "cell_type": "code",
   "execution_count": 38,
   "metadata": {},
   "outputs": [
    {
     "name": "stdout",
     "output_type": "stream",
     "text": [
      "Normality Test - COi:\n",
      "Shapiro-Wilk Test - COi: p-value = 0.0\n",
      "Normality Test - PMi:\n",
      "Shapiro-Wilk Test - PMi: p-value = 0.0\n",
      "Normality Test - CO2i:\n",
      "Shapiro-Wilk Test - CO2i: p-value = 0.0\n",
      "Normality Test - AQI:\n",
      "Shapiro-Wilk Test - AQI: p-value = 0.0\n"
     ]
    }
   ],
   "source": [
    "# Normality test\n",
    "print('Normality Test - COi:')\n",
    "stat, p = stats.shapiro(df['COi'])\n",
    "print('Shapiro-Wilk Test - COi: p-value =', p)\n",
    "\n",
    "print('Normality Test - PMi:')\n",
    "stat, p = stats.shapiro(df['PMi'])\n",
    "print('Shapiro-Wilk Test - PMi: p-value =', p)\n",
    "\n",
    "print('Normality Test - CO2i:')\n",
    "stat, p = stats.shapiro(df['CO2i'])\n",
    "print('Shapiro-Wilk Test - CO2i: p-value =', p)\n",
    "\n",
    "print('Normality Test - AQI:')\n",
    "stat, p = stats.shapiro(df['AQI'])\n",
    "print('Shapiro-Wilk Test - AQI: p-value =', p)"
   ]
  },
  {
   "cell_type": "code",
   "execution_count": 39,
   "metadata": {
    "colab": {
     "base_uri": "https://localhost:8080/"
    },
    "id": "tT_MkTwY4h30",
    "outputId": "4494b484-1b40-499a-8d8a-3db426687583"
   },
   "outputs": [
    {
     "data": {
      "text/plain": [
       "AQI_Bucket\n",
       "Unhealthy                        227809\n",
       "Moderate                         116537\n",
       "Unhealthy for Sensitive Group     70084\n",
       "Very Unhealthy                    30684\n",
       "Hazardous                         15394\n",
       "Good                               2051\n",
       "0                                   121\n",
       "Name: count, dtype: int64"
      ]
     },
     "execution_count": 39,
     "metadata": {},
     "output_type": "execute_result"
    }
   ],
   "source": [
    "df['AQI_Bucket'].value_counts()"
   ]
  },
  {
   "cell_type": "code",
   "execution_count": 40,
   "metadata": {
    "id": "411_2wo58PS6"
   },
   "outputs": [],
   "source": [
    "X=df[['PMi','COi','CO2i']]\n",
    "Y=df['AQI']"
   ]
  },
  {
   "cell_type": "code",
   "execution_count": 41,
   "metadata": {
    "colab": {
     "base_uri": "https://localhost:8080/",
     "height": 206
    },
    "id": "IDCoBWmP9mJa",
    "outputId": "a46d203c-c3c9-453d-deab-20020bdf9245",
    "scrolled": true
   },
   "outputs": [
    {
     "data": {
      "text/html": [
       "<div>\n",
       "<style scoped>\n",
       "    .dataframe tbody tr th:only-of-type {\n",
       "        vertical-align: middle;\n",
       "    }\n",
       "\n",
       "    .dataframe tbody tr th {\n",
       "        vertical-align: top;\n",
       "    }\n",
       "\n",
       "    .dataframe thead th {\n",
       "        text-align: right;\n",
       "    }\n",
       "</style>\n",
       "<table border=\"1\" class=\"dataframe\">\n",
       "  <thead>\n",
       "    <tr style=\"text-align: right;\">\n",
       "      <th></th>\n",
       "      <th>PMi</th>\n",
       "      <th>COi</th>\n",
       "      <th>CO2i</th>\n",
       "    </tr>\n",
       "  </thead>\n",
       "  <tbody>\n",
       "    <tr>\n",
       "      <th>0</th>\n",
       "      <td>406.4</td>\n",
       "      <td>230.9</td>\n",
       "      <td>49.4</td>\n",
       "    </tr>\n",
       "    <tr>\n",
       "      <th>1</th>\n",
       "      <td>463.0</td>\n",
       "      <td>278.7</td>\n",
       "      <td>49.4</td>\n",
       "    </tr>\n",
       "    <tr>\n",
       "      <th>2</th>\n",
       "      <td>476.4</td>\n",
       "      <td>6.8</td>\n",
       "      <td>49.4</td>\n",
       "    </tr>\n",
       "    <tr>\n",
       "      <th>3</th>\n",
       "      <td>393.7</td>\n",
       "      <td>6.8</td>\n",
       "      <td>49.4</td>\n",
       "    </tr>\n",
       "    <tr>\n",
       "      <th>4</th>\n",
       "      <td>406.0</td>\n",
       "      <td>6.8</td>\n",
       "      <td>49.4</td>\n",
       "    </tr>\n",
       "  </tbody>\n",
       "</table>\n",
       "</div>"
      ],
      "text/plain": [
       "     PMi    COi  CO2i\n",
       "0  406.4  230.9  49.4\n",
       "1  463.0  278.7  49.4\n",
       "2  476.4    6.8  49.4\n",
       "3  393.7    6.8  49.4\n",
       "4  406.0    6.8  49.4"
      ]
     },
     "execution_count": 41,
     "metadata": {},
     "output_type": "execute_result"
    }
   ],
   "source": [
    "X.head()"
   ]
  },
  {
   "cell_type": "code",
   "execution_count": 42,
   "metadata": {
    "colab": {
     "base_uri": "https://localhost:8080/"
    },
    "id": "CQpZhN0h9rI-",
    "outputId": "c6d880be-e934-4229-f3cc-a66ec47064e7"
   },
   "outputs": [
    {
     "data": {
      "text/plain": [
       "0    406.4\n",
       "1    463.0\n",
       "2    476.4\n",
       "3    393.7\n",
       "4    406.0\n",
       "Name: AQI, dtype: float64"
      ]
     },
     "execution_count": 42,
     "metadata": {},
     "output_type": "execute_result"
    }
   ],
   "source": [
    "Y.head()"
   ]
  },
  {
   "cell_type": "code",
   "execution_count": 43,
   "metadata": {
    "colab": {
     "base_uri": "https://localhost:8080/"
    },
    "id": "5gsE7sor9vIX",
    "outputId": "f7cb8f86-326d-4eef-fdbe-6a31b2120ee1"
   },
   "outputs": [
    {
     "name": "stdout",
     "output_type": "stream",
     "text": [
      "(370144, 3) (92536, 3) (370144,) (92536,)\n"
     ]
    }
   ],
   "source": [
    "X_train,X_test,Y_train,Y_test=train_test_split(X,Y,test_size=0.2,random_state=70)\n",
    "print(X_train.shape,X_test.shape,Y_train.shape,Y_test.shape)"
   ]
  },
  {
   "cell_type": "code",
   "execution_count": 44,
   "metadata": {},
   "outputs": [],
   "source": [
    "# Scale the features using Min-Max scaling\n",
    "scaler = MinMaxScaler()\n",
    "X_train_scaled = scaler.fit_transform(X_train)\n",
    "X_test_scaled = scaler.transform(X_test)"
   ]
  },
  {
   "cell_type": "code",
   "execution_count": 45,
   "metadata": {
    "id": "3mfNkER2-wNC"
   },
   "outputs": [
    {
     "data": {
      "text/html": [
       "<style>#sk-container-id-1 {color: black;background-color: white;}#sk-container-id-1 pre{padding: 0;}#sk-container-id-1 div.sk-toggleable {background-color: white;}#sk-container-id-1 label.sk-toggleable__label {cursor: pointer;display: block;width: 100%;margin-bottom: 0;padding: 0.3em;box-sizing: border-box;text-align: center;}#sk-container-id-1 label.sk-toggleable__label-arrow:before {content: \"▸\";float: left;margin-right: 0.25em;color: #696969;}#sk-container-id-1 label.sk-toggleable__label-arrow:hover:before {color: black;}#sk-container-id-1 div.sk-estimator:hover label.sk-toggleable__label-arrow:before {color: black;}#sk-container-id-1 div.sk-toggleable__content {max-height: 0;max-width: 0;overflow: hidden;text-align: left;background-color: #f0f8ff;}#sk-container-id-1 div.sk-toggleable__content pre {margin: 0.2em;color: black;border-radius: 0.25em;background-color: #f0f8ff;}#sk-container-id-1 input.sk-toggleable__control:checked~div.sk-toggleable__content {max-height: 200px;max-width: 100%;overflow: auto;}#sk-container-id-1 input.sk-toggleable__control:checked~label.sk-toggleable__label-arrow:before {content: \"▾\";}#sk-container-id-1 div.sk-estimator input.sk-toggleable__control:checked~label.sk-toggleable__label {background-color: #d4ebff;}#sk-container-id-1 div.sk-label input.sk-toggleable__control:checked~label.sk-toggleable__label {background-color: #d4ebff;}#sk-container-id-1 input.sk-hidden--visually {border: 0;clip: rect(1px 1px 1px 1px);clip: rect(1px, 1px, 1px, 1px);height: 1px;margin: -1px;overflow: hidden;padding: 0;position: absolute;width: 1px;}#sk-container-id-1 div.sk-estimator {font-family: monospace;background-color: #f0f8ff;border: 1px dotted black;border-radius: 0.25em;box-sizing: border-box;margin-bottom: 0.5em;}#sk-container-id-1 div.sk-estimator:hover {background-color: #d4ebff;}#sk-container-id-1 div.sk-parallel-item::after {content: \"\";width: 100%;border-bottom: 1px solid gray;flex-grow: 1;}#sk-container-id-1 div.sk-label:hover label.sk-toggleable__label {background-color: #d4ebff;}#sk-container-id-1 div.sk-serial::before {content: \"\";position: absolute;border-left: 1px solid gray;box-sizing: border-box;top: 0;bottom: 0;left: 50%;z-index: 0;}#sk-container-id-1 div.sk-serial {display: flex;flex-direction: column;align-items: center;background-color: white;padding-right: 0.2em;padding-left: 0.2em;position: relative;}#sk-container-id-1 div.sk-item {position: relative;z-index: 1;}#sk-container-id-1 div.sk-parallel {display: flex;align-items: stretch;justify-content: center;background-color: white;position: relative;}#sk-container-id-1 div.sk-item::before, #sk-container-id-1 div.sk-parallel-item::before {content: \"\";position: absolute;border-left: 1px solid gray;box-sizing: border-box;top: 0;bottom: 0;left: 50%;z-index: -1;}#sk-container-id-1 div.sk-parallel-item {display: flex;flex-direction: column;z-index: 1;position: relative;background-color: white;}#sk-container-id-1 div.sk-parallel-item:first-child::after {align-self: flex-end;width: 50%;}#sk-container-id-1 div.sk-parallel-item:last-child::after {align-self: flex-start;width: 50%;}#sk-container-id-1 div.sk-parallel-item:only-child::after {width: 0;}#sk-container-id-1 div.sk-dashed-wrapped {border: 1px dashed gray;margin: 0 0.4em 0.5em 0.4em;box-sizing: border-box;padding-bottom: 0.4em;background-color: white;}#sk-container-id-1 div.sk-label label {font-family: monospace;font-weight: bold;display: inline-block;line-height: 1.2em;}#sk-container-id-1 div.sk-label-container {text-align: center;}#sk-container-id-1 div.sk-container {/* jupyter's `normalize.less` sets `[hidden] { display: none; }` but bootstrap.min.css set `[hidden] { display: none !important; }` so we also need the `!important` here to be able to override the default hidden behavior on the sphinx rendered scikit-learn.org. See: https://github.com/scikit-learn/scikit-learn/issues/21755 */display: inline-block !important;position: relative;}#sk-container-id-1 div.sk-text-repr-fallback {display: none;}</style><div id=\"sk-container-id-1\" class=\"sk-top-container\"><div class=\"sk-text-repr-fallback\"><pre>LinearRegression()</pre><b>In a Jupyter environment, please rerun this cell to show the HTML representation or trust the notebook. <br />On GitHub, the HTML representation is unable to render, please try loading this page with nbviewer.org.</b></div><div class=\"sk-container\" hidden><div class=\"sk-item\"><div class=\"sk-estimator sk-toggleable\"><input class=\"sk-toggleable__control sk-hidden--visually\" id=\"sk-estimator-id-1\" type=\"checkbox\" checked><label for=\"sk-estimator-id-1\" class=\"sk-toggleable__label sk-toggleable__label-arrow\">LinearRegression</label><div class=\"sk-toggleable__content\"><pre>LinearRegression()</pre></div></div></div></div></div>"
      ],
      "text/plain": [
       "LinearRegression()"
      ]
     },
     "execution_count": 45,
     "metadata": {},
     "output_type": "execute_result"
    }
   ],
   "source": [
    "model=LinearRegression()\n",
    "model.fit(X_train,Y_train)"
   ]
  },
  {
   "cell_type": "code",
   "execution_count": 46,
   "metadata": {
    "id": "_UsKS9Uk-211"
   },
   "outputs": [],
   "source": [
    "#predicting train\n",
    "train_pred=model.predict(X_train)\n",
    "#predicting on test\n",
    "test_pred=model.predict(X_test)"
   ]
  },
  {
   "cell_type": "code",
   "execution_count": 54,
   "metadata": {
    "id": "3qjfZH6Q-_xt"
   },
   "outputs": [
    {
     "name": "stdout",
     "output_type": "stream",
     "text": [
      "RMSE TrainingData =  6.955233779861604\n",
      "RMSE TestData =  6.897801049467794\n",
      "--------------------------------------------------\n",
      "3\n",
      "370144\n",
      "RSquared value on train: 0.9891077475112089\n",
      "RSquared value on test: 0.9892898860837787\n",
      "RSquared Adjusted value on train: 0.9891076592290522\n",
      "RSquared Adjusted value on test: 0.9892895388488573\n"
     ]
    }
   ],
   "source": [
    "RMSE_train=(np.sqrt(mean_squared_error(Y_train,train_pred)))\n",
    "RMSE_test=(np.sqrt(mean_squared_error(Y_test,test_pred)))\n",
    "print(\"RMSE TrainingData = \",str(RMSE_train))\n",
    "print(\"RMSE TestData = \",str(RMSE_test))\n",
    "print('-'*50)\n",
    "r_squared_t = r2_score(Y_train, train_pred)\n",
    "r_squared_ts =r2_score(Y_test, test_pred)\n",
    "print('RSquared value on train:',r_squared_t)\n",
    "print('RSquared value on test:',r_squared_ts)\n",
    "\n",
    "num_predictors = X_train.shape[1]  # Replace X_train with your training data\n",
    "num_observations = X_train.shape[0]  # Replace X_train with your training data\n",
    "\n",
    "\n",
    "adjusted_r_squared_t = 1 - (1 - r_squared_t) * (num_observations - 1) / (num_observations - num_predictors - 1)\n",
    "\n",
    "num_predictors = X_test.shape[1]  # Replace X_train with your training data\n",
    "num_observations = X_test.shape[0]  # Replace X_train with your training data\n",
    "adjusted_r_squared_ts = 1 - (1 - r_squared_ts) * (num_observations - 1) / (num_observations - num_predictors - 1)\n",
    "\n",
    "\n",
    "print('RSquared Adjusted value on train:',adjusted_r_squared_t)\n",
    "print('RSquared Adjusted value on test:',adjusted_r_squared_ts)"
   ]
  },
  {
   "cell_type": "markdown",
   "metadata": {},
   "source": [
    "Here's an interpretation of the evaluation metrics:\n",
    "\n",
    "RMSE (Root Mean Squared Error):\n",
    "\n",
    "RMSE for Training Data: 4.4364\n",
    "RMSE for Test Data: 4.4653\n",
    "The RMSE measures the average difference between the predicted values and the actual values. Lower values of RMSE indicate better performance. In our case, the RMSE values for both the training and test data are relatively low, suggesting that our model has good predictive capability and is able to capture the patterns in the data reasonably well.\n",
    "\n",
    "R-squared (coefficient of determination):\n",
    "\n",
    "R-squared for Training Data: 0.9958\n",
    "R-squared for Test Data: 0.9957\n",
    "R-squared represents the proportion of the variance in the dependent variables that can be explained by the independent variable(s). R-squared ranges from 0 to 1, where 1 indicates a perfect fit. In our case, both the training and test R-squared values are very close to 1 (indicating a high proportion of explained variance), which suggests that your model fits the data well"
   ]
  },
  {
   "cell_type": "code",
   "execution_count": 56,
   "metadata": {
    "id": "tahK-ohR_EUp"
   },
   "outputs": [
    {
     "data": {
      "text/html": [
       "<style>#sk-container-id-2 {color: black;background-color: white;}#sk-container-id-2 pre{padding: 0;}#sk-container-id-2 div.sk-toggleable {background-color: white;}#sk-container-id-2 label.sk-toggleable__label {cursor: pointer;display: block;width: 100%;margin-bottom: 0;padding: 0.3em;box-sizing: border-box;text-align: center;}#sk-container-id-2 label.sk-toggleable__label-arrow:before {content: \"▸\";float: left;margin-right: 0.25em;color: #696969;}#sk-container-id-2 label.sk-toggleable__label-arrow:hover:before {color: black;}#sk-container-id-2 div.sk-estimator:hover label.sk-toggleable__label-arrow:before {color: black;}#sk-container-id-2 div.sk-toggleable__content {max-height: 0;max-width: 0;overflow: hidden;text-align: left;background-color: #f0f8ff;}#sk-container-id-2 div.sk-toggleable__content pre {margin: 0.2em;color: black;border-radius: 0.25em;background-color: #f0f8ff;}#sk-container-id-2 input.sk-toggleable__control:checked~div.sk-toggleable__content {max-height: 200px;max-width: 100%;overflow: auto;}#sk-container-id-2 input.sk-toggleable__control:checked~label.sk-toggleable__label-arrow:before {content: \"▾\";}#sk-container-id-2 div.sk-estimator input.sk-toggleable__control:checked~label.sk-toggleable__label {background-color: #d4ebff;}#sk-container-id-2 div.sk-label input.sk-toggleable__control:checked~label.sk-toggleable__label {background-color: #d4ebff;}#sk-container-id-2 input.sk-hidden--visually {border: 0;clip: rect(1px 1px 1px 1px);clip: rect(1px, 1px, 1px, 1px);height: 1px;margin: -1px;overflow: hidden;padding: 0;position: absolute;width: 1px;}#sk-container-id-2 div.sk-estimator {font-family: monospace;background-color: #f0f8ff;border: 1px dotted black;border-radius: 0.25em;box-sizing: border-box;margin-bottom: 0.5em;}#sk-container-id-2 div.sk-estimator:hover {background-color: #d4ebff;}#sk-container-id-2 div.sk-parallel-item::after {content: \"\";width: 100%;border-bottom: 1px solid gray;flex-grow: 1;}#sk-container-id-2 div.sk-label:hover label.sk-toggleable__label {background-color: #d4ebff;}#sk-container-id-2 div.sk-serial::before {content: \"\";position: absolute;border-left: 1px solid gray;box-sizing: border-box;top: 0;bottom: 0;left: 50%;z-index: 0;}#sk-container-id-2 div.sk-serial {display: flex;flex-direction: column;align-items: center;background-color: white;padding-right: 0.2em;padding-left: 0.2em;position: relative;}#sk-container-id-2 div.sk-item {position: relative;z-index: 1;}#sk-container-id-2 div.sk-parallel {display: flex;align-items: stretch;justify-content: center;background-color: white;position: relative;}#sk-container-id-2 div.sk-item::before, #sk-container-id-2 div.sk-parallel-item::before {content: \"\";position: absolute;border-left: 1px solid gray;box-sizing: border-box;top: 0;bottom: 0;left: 50%;z-index: -1;}#sk-container-id-2 div.sk-parallel-item {display: flex;flex-direction: column;z-index: 1;position: relative;background-color: white;}#sk-container-id-2 div.sk-parallel-item:first-child::after {align-self: flex-end;width: 50%;}#sk-container-id-2 div.sk-parallel-item:last-child::after {align-self: flex-start;width: 50%;}#sk-container-id-2 div.sk-parallel-item:only-child::after {width: 0;}#sk-container-id-2 div.sk-dashed-wrapped {border: 1px dashed gray;margin: 0 0.4em 0.5em 0.4em;box-sizing: border-box;padding-bottom: 0.4em;background-color: white;}#sk-container-id-2 div.sk-label label {font-family: monospace;font-weight: bold;display: inline-block;line-height: 1.2em;}#sk-container-id-2 div.sk-label-container {text-align: center;}#sk-container-id-2 div.sk-container {/* jupyter's `normalize.less` sets `[hidden] { display: none; }` but bootstrap.min.css set `[hidden] { display: none !important; }` so we also need the `!important` here to be able to override the default hidden behavior on the sphinx rendered scikit-learn.org. See: https://github.com/scikit-learn/scikit-learn/issues/21755 */display: inline-block !important;position: relative;}#sk-container-id-2 div.sk-text-repr-fallback {display: none;}</style><div id=\"sk-container-id-2\" class=\"sk-top-container\"><div class=\"sk-text-repr-fallback\"><pre>DecisionTreeRegressor()</pre><b>In a Jupyter environment, please rerun this cell to show the HTML representation or trust the notebook. <br />On GitHub, the HTML representation is unable to render, please try loading this page with nbviewer.org.</b></div><div class=\"sk-container\" hidden><div class=\"sk-item\"><div class=\"sk-estimator sk-toggleable\"><input class=\"sk-toggleable__control sk-hidden--visually\" id=\"sk-estimator-id-2\" type=\"checkbox\" checked><label for=\"sk-estimator-id-2\" class=\"sk-toggleable__label sk-toggleable__label-arrow\">DecisionTreeRegressor</label><div class=\"sk-toggleable__content\"><pre>DecisionTreeRegressor()</pre></div></div></div></div></div>"
      ],
      "text/plain": [
       "DecisionTreeRegressor()"
      ]
     },
     "execution_count": 56,
     "metadata": {},
     "output_type": "execute_result"
    }
   ],
   "source": [
    "DT=DecisionTreeRegressor()\n",
    "DT.fit(X_train,Y_train)"
   ]
  },
  {
   "cell_type": "code",
   "execution_count": 57,
   "metadata": {
    "id": "EkWHCjNc_LpB"
   },
   "outputs": [],
   "source": [
    "#predicting train\n",
    "train_preds=DT.predict(X_train)\n",
    "#predicting on test\n",
    "test_preds=DT.predict(X_test)"
   ]
  },
  {
   "cell_type": "code",
   "execution_count": 58,
   "metadata": {
    "id": "sQtKU45p_P1u"
   },
   "outputs": [
    {
     "name": "stdout",
     "output_type": "stream",
     "text": [
      "RMSE TrainingData =  7.030127364001864e-11\n",
      "RMSE TestData =  1.2031882159258602\n",
      "--------------------------------------------------\n",
      "RSquared value on train: 1.0\n",
      "RSquared value on test: 0.999674133360753\n",
      "RSquared Adjusted value on train: 1.0\n",
      "RSquared Adjusted value on test: 0.9996741227957601\n"
     ]
    }
   ],
   "source": [
    "RMSE_train=(np.sqrt(metrics.mean_squared_error(Y_train,train_preds)))\n",
    "RMSE_test=(np.sqrt(metrics.mean_squared_error(Y_test,test_preds)))\n",
    "print(\"RMSE TrainingData = \",str(RMSE_train))\n",
    "print(\"RMSE TestData = \",str(RMSE_test))\n",
    "print('-'*50)\n",
    "r_squared_t = DT.score(X_train, Y_train)\n",
    "r_squared_ts = DT.score(X_test, Y_test)\n",
    "\n",
    "print('RSquared value on train:',r_squared_t)\n",
    "print('RSquared value on test:',r_squared_ts)\n",
    "\n",
    "\n",
    "num_predictors = X_train.shape[1]  # Replace X_train with your training data\n",
    "num_observations = X_train.shape[0]  # Replace X_train with your training data\n",
    "adjusted_r_squared_t = 1 - (1 - r_squared_t) * (num_observations - 1) / (num_observations - num_predictors - 1)\n",
    "\n",
    "num_predictors = X_test.shape[1]  # Replace X_train with your test data\n",
    "num_observations = X_test.shape[0]  # Replace X_train with your test data\n",
    "adjusted_r_squared_ts = 1 - (1 - r_squared_ts) * (num_observations - 1) / (num_observations - num_predictors - 1)\n",
    "\n",
    "\n",
    "print('RSquared Adjusted value on train:',adjusted_r_squared_t)\n",
    "print('RSquared Adjusted value on test:',adjusted_r_squared_ts)"
   ]
  },
  {
   "cell_type": "markdown",
   "metadata": {},
   "source": [
    " the performance of the updated model is even better than the previous one. Here's an interpretation of the evaluation metrics:\n",
    "\n",
    "RMSE (Root Mean Squared Error):\n",
    "\n",
    "RMSE for Training Data: 7.0315e-11\n",
    "RMSE for Test Data: 1.3905\n",
    "The RMSE measures the average difference between the predicted values and the actual values. Lower values of RMSE indicate better performance. In this case, the RMSE for the training data is extremely low, close to zero, indicating that the model is able to almost perfectly predict the values of the training data. The RMSE for the test data is also relatively low, further suggesting good predictive capability.\n",
    "\n",
    "R-squared (coefficient of determination):\n",
    "\n",
    "R-squared for Training Data: 1.0\n",
    "R-squared for Test Data: 0.9996\n",
    "R-squared represents the proportion of the variance in the dependent variable (PM2.5) that can be explained by the independent variable(s). R-squared ranges from 0 to 1, where 1 indicates a perfect fit. In this case, the R-squared values are very close to 1 for both the training and test data, indicating an excellent fit and high proportion of explained variance.\n",
    "\n"
   ]
  },
  {
   "cell_type": "code",
   "execution_count": 59,
   "metadata": {
    "id": "anAwQnZZ_Xc1"
   },
   "outputs": [],
   "source": [
    "RF=RandomForestRegressor().fit(X_train,Y_train)"
   ]
  },
  {
   "cell_type": "code",
   "execution_count": 60,
   "metadata": {
    "id": "31wuXddF_fUQ"
   },
   "outputs": [],
   "source": [
    "#predicting train\n",
    "train_preds1=RF.predict(X_train)\n",
    "#predicting on test\n",
    "test_preds1=RF.predict(X_test)"
   ]
  },
  {
   "cell_type": "code",
   "execution_count": 61,
   "metadata": {},
   "outputs": [
    {
     "data": {
      "text/html": [
       "<div>\n",
       "<style scoped>\n",
       "    .dataframe tbody tr th:only-of-type {\n",
       "        vertical-align: middle;\n",
       "    }\n",
       "\n",
       "    .dataframe tbody tr th {\n",
       "        vertical-align: top;\n",
       "    }\n",
       "\n",
       "    .dataframe thead th {\n",
       "        text-align: right;\n",
       "    }\n",
       "</style>\n",
       "<table border=\"1\" class=\"dataframe\">\n",
       "  <thead>\n",
       "    <tr style=\"text-align: right;\">\n",
       "      <th></th>\n",
       "      <th>PMi</th>\n",
       "      <th>COi</th>\n",
       "      <th>CO2i</th>\n",
       "    </tr>\n",
       "  </thead>\n",
       "  <tbody>\n",
       "    <tr>\n",
       "      <th>143842</th>\n",
       "      <td>55.2</td>\n",
       "      <td>4.5</td>\n",
       "      <td>52.4</td>\n",
       "    </tr>\n",
       "    <tr>\n",
       "      <th>38172</th>\n",
       "      <td>169.7</td>\n",
       "      <td>11.4</td>\n",
       "      <td>54.3</td>\n",
       "    </tr>\n",
       "    <tr>\n",
       "      <th>316607</th>\n",
       "      <td>71.6</td>\n",
       "      <td>20.5</td>\n",
       "      <td>51.8</td>\n",
       "    </tr>\n",
       "    <tr>\n",
       "      <th>456767</th>\n",
       "      <td>29.2</td>\n",
       "      <td>4.5</td>\n",
       "      <td>52.9</td>\n",
       "    </tr>\n",
       "    <tr>\n",
       "      <th>215521</th>\n",
       "      <td>170.3</td>\n",
       "      <td>28.4</td>\n",
       "      <td>51.7</td>\n",
       "    </tr>\n",
       "    <tr>\n",
       "      <th>...</th>\n",
       "      <td>...</td>\n",
       "      <td>...</td>\n",
       "      <td>...</td>\n",
       "    </tr>\n",
       "    <tr>\n",
       "      <th>280809</th>\n",
       "      <td>151.3</td>\n",
       "      <td>0.0</td>\n",
       "      <td>54.2</td>\n",
       "    </tr>\n",
       "    <tr>\n",
       "      <th>99972</th>\n",
       "      <td>181.5</td>\n",
       "      <td>10.2</td>\n",
       "      <td>51.5</td>\n",
       "    </tr>\n",
       "    <tr>\n",
       "      <th>276527</th>\n",
       "      <td>108.6</td>\n",
       "      <td>10.2</td>\n",
       "      <td>52.5</td>\n",
       "    </tr>\n",
       "    <tr>\n",
       "      <th>216141</th>\n",
       "      <td>163.2</td>\n",
       "      <td>11.4</td>\n",
       "      <td>51.6</td>\n",
       "    </tr>\n",
       "    <tr>\n",
       "      <th>37750</th>\n",
       "      <td>180.0</td>\n",
       "      <td>27.3</td>\n",
       "      <td>70.0</td>\n",
       "    </tr>\n",
       "  </tbody>\n",
       "</table>\n",
       "<p>92536 rows × 3 columns</p>\n",
       "</div>"
      ],
      "text/plain": [
       "          PMi   COi  CO2i\n",
       "143842   55.2   4.5  52.4\n",
       "38172   169.7  11.4  54.3\n",
       "316607   71.6  20.5  51.8\n",
       "456767   29.2   4.5  52.9\n",
       "215521  170.3  28.4  51.7\n",
       "...       ...   ...   ...\n",
       "280809  151.3   0.0  54.2\n",
       "99972   181.5  10.2  51.5\n",
       "276527  108.6  10.2  52.5\n",
       "216141  163.2  11.4  51.6\n",
       "37750   180.0  27.3  70.0\n",
       "\n",
       "[92536 rows x 3 columns]"
      ]
     },
     "execution_count": 61,
     "metadata": {},
     "output_type": "execute_result"
    }
   ],
   "source": [
    "X_test"
   ]
  },
  {
   "cell_type": "code",
   "execution_count": 62,
   "metadata": {},
   "outputs": [
    {
     "data": {
      "text/html": [
       "<div>\n",
       "<style scoped>\n",
       "    .dataframe tbody tr th:only-of-type {\n",
       "        vertical-align: middle;\n",
       "    }\n",
       "\n",
       "    .dataframe tbody tr th {\n",
       "        vertical-align: top;\n",
       "    }\n",
       "\n",
       "    .dataframe thead th {\n",
       "        text-align: right;\n",
       "    }\n",
       "</style>\n",
       "<table border=\"1\" class=\"dataframe\">\n",
       "  <thead>\n",
       "    <tr style=\"text-align: right;\">\n",
       "      <th></th>\n",
       "      <th>0</th>\n",
       "    </tr>\n",
       "  </thead>\n",
       "  <tbody>\n",
       "    <tr>\n",
       "      <th>0</th>\n",
       "      <td>55.2</td>\n",
       "    </tr>\n",
       "    <tr>\n",
       "      <th>1</th>\n",
       "      <td>169.7</td>\n",
       "    </tr>\n",
       "    <tr>\n",
       "      <th>2</th>\n",
       "      <td>71.6</td>\n",
       "    </tr>\n",
       "    <tr>\n",
       "      <th>3</th>\n",
       "      <td>52.9</td>\n",
       "    </tr>\n",
       "    <tr>\n",
       "      <th>4</th>\n",
       "      <td>170.3</td>\n",
       "    </tr>\n",
       "    <tr>\n",
       "      <th>...</th>\n",
       "      <td>...</td>\n",
       "    </tr>\n",
       "    <tr>\n",
       "      <th>92531</th>\n",
       "      <td>151.3</td>\n",
       "    </tr>\n",
       "    <tr>\n",
       "      <th>92532</th>\n",
       "      <td>181.5</td>\n",
       "    </tr>\n",
       "    <tr>\n",
       "      <th>92533</th>\n",
       "      <td>108.6</td>\n",
       "    </tr>\n",
       "    <tr>\n",
       "      <th>92534</th>\n",
       "      <td>163.2</td>\n",
       "    </tr>\n",
       "    <tr>\n",
       "      <th>92535</th>\n",
       "      <td>180.0</td>\n",
       "    </tr>\n",
       "  </tbody>\n",
       "</table>\n",
       "<p>92536 rows × 1 columns</p>\n",
       "</div>"
      ],
      "text/plain": [
       "           0\n",
       "0       55.2\n",
       "1      169.7\n",
       "2       71.6\n",
       "3       52.9\n",
       "4      170.3\n",
       "...      ...\n",
       "92531  151.3\n",
       "92532  181.5\n",
       "92533  108.6\n",
       "92534  163.2\n",
       "92535  180.0\n",
       "\n",
       "[92536 rows x 1 columns]"
      ]
     },
     "execution_count": 62,
     "metadata": {},
     "output_type": "execute_result"
    }
   ],
   "source": [
    "df_test = pd.DataFrame(test_preds1)\n",
    "df_test"
   ]
  },
  {
   "cell_type": "code",
   "execution_count": 63,
   "metadata": {
    "id": "JzPqixK4_hfT"
   },
   "outputs": [
    {
     "name": "stdout",
     "output_type": "stream",
     "text": [
      "RMSE TrainingData =  0.7098060195587926\n",
      "RMSE TestData =  1.2309568157285422\n",
      "--------------------------------------------------\n",
      "RSquared value on train: 0.9998865580738295\n",
      "RSquared value on test: 0.9996589183173875\n",
      "--------------------------------------------------\n",
      "RSquared Adjusted value on train: 0.999886557154378\n",
      "RSquared Adjusted value on test: 0.9996589072591044\n"
     ]
    }
   ],
   "source": [
    "RMSE_train=(np.sqrt(metrics.mean_squared_error(Y_train,train_preds1)))\n",
    "RMSE_test=(np.sqrt(metrics.mean_squared_error(Y_test,test_preds1)))\n",
    "print(\"RMSE TrainingData = \",str(RMSE_train))\n",
    "print(\"RMSE TestData = \",str(RMSE_test))\n",
    "print('-'*50)\n",
    "r_squared_t = RF.score(X_train, Y_train)\n",
    "r_squared_ts = RF.score(X_test, Y_test)\n",
    "print('RSquared value on train:',r_squared_t )\n",
    "print('RSquared value on test:',r_squared_ts)\n",
    "print('-'*50)\n",
    "num_predictors = X_train.shape[1]  # Replace X_train with your training data\n",
    "num_observations = X_train.shape[0]  # Replace X_train with your training data\n",
    "adjusted_r_squared_t = 1 - (1 - r_squared_t) * (num_observations - 1) / (num_observations - num_predictors - 1)\n",
    "\n",
    "num_predictors = X_test.shape[1]  # Replace X_train with your test data\n",
    "num_observations = X_test.shape[0]  # Replace X_train with your test data\n",
    "adjusted_r_squared_ts = 1 - (1 - r_squared_ts) * (num_observations - 1) / (num_observations - num_predictors - 1)\n",
    "\n",
    "\n",
    "print('RSquared Adjusted value on train:',adjusted_r_squared_t)\n",
    "print('RSquared Adjusted value on test:',adjusted_r_squared_ts)"
   ]
  },
  {
   "cell_type": "code",
   "execution_count": 64,
   "metadata": {},
   "outputs": [
    {
     "data": {
      "image/png": "[encoded data removed]",
      "text/plain": [
       "<Figure size 800x600 with 1 Axes>"
      ]
     },
     "metadata": {},
     "output_type": "display_data"
    }
   ],
   "source": [
    "# Plot RMSE values\n",
    "plt.figure(figsize=(8, 6))\n",
    "plt.bar(['Train', 'Test'], [RMSE_train, RMSE_test])\n",
    "plt.xlabel('Dataset')\n",
    "plt.ylabel('RMSE')\n",
    "plt.title('Root Mean Squared Error (RMSE)')\n",
    "plt.show()"
   ]
  },
  {
   "cell_type": "code",
   "execution_count": 65,
   "metadata": {},
   "outputs": [
    {
     "data": {
      "image/png": "[encoded data removed]",
      "text/plain": [
       "<Figure size 800x600 with 1 Axes>"
      ]
     },
     "metadata": {},
     "output_type": "display_data"
    }
   ],
   "source": [
    "# Plot R-squared values\n",
    "plt.figure(figsize=(8, 6))\n",
    "plt.bar(['Train', 'Test'], [RF.score(X_train, Y_train), RF.score(X_test, Y_test)])\n",
    "plt.xlabel('Dataset')\n",
    "plt.ylabel('R-squared')\n",
    "plt.title('R-squared')\n",
    "plt.show()"
   ]
  },
  {
   "cell_type": "markdown",
   "metadata": {},
   "source": [
    "the performance of  model is slightly worse than the previous two models but still quite good."
   ]
  },
  {
   "cell_type": "code",
   "execution_count": 67,
   "metadata": {},
   "outputs": [
    {
     "data": {
      "text/html": [
       "<style>#sk-container-id-4 {color: black;background-color: white;}#sk-container-id-4 pre{padding: 0;}#sk-container-id-4 div.sk-toggleable {background-color: white;}#sk-container-id-4 label.sk-toggleable__label {cursor: pointer;display: block;width: 100%;margin-bottom: 0;padding: 0.3em;box-sizing: border-box;text-align: center;}#sk-container-id-4 label.sk-toggleable__label-arrow:before {content: \"▸\";float: left;margin-right: 0.25em;color: #696969;}#sk-container-id-4 label.sk-toggleable__label-arrow:hover:before {color: black;}#sk-container-id-4 div.sk-estimator:hover label.sk-toggleable__label-arrow:before {color: black;}#sk-container-id-4 div.sk-toggleable__content {max-height: 0;max-width: 0;overflow: hidden;text-align: left;background-color: #f0f8ff;}#sk-container-id-4 div.sk-toggleable__content pre {margin: 0.2em;color: black;border-radius: 0.25em;background-color: #f0f8ff;}#sk-container-id-4 input.sk-toggleable__control:checked~div.sk-toggleable__content {max-height: 200px;max-width: 100%;overflow: auto;}#sk-container-id-4 input.sk-toggleable__control:checked~label.sk-toggleable__label-arrow:before {content: \"▾\";}#sk-container-id-4 div.sk-estimator input.sk-toggleable__control:checked~label.sk-toggleable__label {background-color: #d4ebff;}#sk-container-id-4 div.sk-label input.sk-toggleable__control:checked~label.sk-toggleable__label {background-color: #d4ebff;}#sk-container-id-4 input.sk-hidden--visually {border: 0;clip: rect(1px 1px 1px 1px);clip: rect(1px, 1px, 1px, 1px);height: 1px;margin: -1px;overflow: hidden;padding: 0;position: absolute;width: 1px;}#sk-container-id-4 div.sk-estimator {font-family: monospace;background-color: #f0f8ff;border: 1px dotted black;border-radius: 0.25em;box-sizing: border-box;margin-bottom: 0.5em;}#sk-container-id-4 div.sk-estimator:hover {background-color: #d4ebff;}#sk-container-id-4 div.sk-parallel-item::after {content: \"\";width: 100%;border-bottom: 1px solid gray;flex-grow: 1;}#sk-container-id-4 div.sk-label:hover label.sk-toggleable__label {background-color: #d4ebff;}#sk-container-id-4 div.sk-serial::before {content: \"\";position: absolute;border-left: 1px solid gray;box-sizing: border-box;top: 0;bottom: 0;left: 50%;z-index: 0;}#sk-container-id-4 div.sk-serial {display: flex;flex-direction: column;align-items: center;background-color: white;padding-right: 0.2em;padding-left: 0.2em;position: relative;}#sk-container-id-4 div.sk-item {position: relative;z-index: 1;}#sk-container-id-4 div.sk-parallel {display: flex;align-items: stretch;justify-content: center;background-color: white;position: relative;}#sk-container-id-4 div.sk-item::before, #sk-container-id-4 div.sk-parallel-item::before {content: \"\";position: absolute;border-left: 1px solid gray;box-sizing: border-box;top: 0;bottom: 0;left: 50%;z-index: -1;}#sk-container-id-4 div.sk-parallel-item {display: flex;flex-direction: column;z-index: 1;position: relative;background-color: white;}#sk-container-id-4 div.sk-parallel-item:first-child::after {align-self: flex-end;width: 50%;}#sk-container-id-4 div.sk-parallel-item:last-child::after {align-self: flex-start;width: 50%;}#sk-container-id-4 div.sk-parallel-item:only-child::after {width: 0;}#sk-container-id-4 div.sk-dashed-wrapped {border: 1px dashed gray;margin: 0 0.4em 0.5em 0.4em;box-sizing: border-box;padding-bottom: 0.4em;background-color: white;}#sk-container-id-4 div.sk-label label {font-family: monospace;font-weight: bold;display: inline-block;line-height: 1.2em;}#sk-container-id-4 div.sk-label-container {text-align: center;}#sk-container-id-4 div.sk-container {/* jupyter's `normalize.less` sets `[hidden] { display: none; }` but bootstrap.min.css set `[hidden] { display: none !important; }` so we also need the `!important` here to be able to override the default hidden behavior on the sphinx rendered scikit-learn.org. See: https://github.com/scikit-learn/scikit-learn/issues/21755 */display: inline-block !important;position: relative;}#sk-container-id-4 div.sk-text-repr-fallback {display: none;}</style><div id=\"sk-container-id-4\" class=\"sk-top-container\"><div class=\"sk-text-repr-fallback\"><pre>Ridge()</pre><b>In a Jupyter environment, please rerun this cell to show the HTML representation or trust the notebook. <br />On GitHub, the HTML representation is unable to render, please try loading this page with nbviewer.org.</b></div><div class=\"sk-container\" hidden><div class=\"sk-item\"><div class=\"sk-estimator sk-toggleable\"><input class=\"sk-toggleable__control sk-hidden--visually\" id=\"sk-estimator-id-4\" type=\"checkbox\" checked><label for=\"sk-estimator-id-4\" class=\"sk-toggleable__label sk-toggleable__label-arrow\">Ridge</label><div class=\"sk-toggleable__content\"><pre>Ridge()</pre></div></div></div></div></div>"
      ],
      "text/plain": [
       "Ridge()"
      ]
     },
     "execution_count": 67,
     "metadata": {},
     "output_type": "execute_result"
    }
   ],
   "source": [
    "ridge = Ridge(alpha=1.0)\n",
    "ridge.fit(X_train, Y_train)"
   ]
  },
  {
   "cell_type": "code",
   "execution_count": 68,
   "metadata": {},
   "outputs": [],
   "source": [
    "#predicting train\n",
    "train_preds3=ridge.predict(X_train)\n",
    "#predicting on test\n",
    "test_preds3=ridge.predict(X_test)"
   ]
  },
  {
   "cell_type": "code",
   "execution_count": 75,
   "metadata": {
    "scrolled": true
   },
   "outputs": [
    {
     "name": "stdout",
     "output_type": "stream",
     "text": [
      "RMSE TrainingData =  6.955233779861604\n",
      "RMSE TestData =  6.897801031027633\n",
      "--------------------------------------------------\n",
      "RSquared value on train: 0.9891077475112089\n",
      "RSquared value on test: 0.9892898861410422\n",
      "--------------------------------------------------\n",
      "RSquared Adjusted value on train: 0.9891076592290522\n",
      "RSquared Adjusted value on test: 0.9892895389061226\n"
     ]
    }
   ],
   "source": [
    "RMSE_train=(np.sqrt(metrics.mean_squared_error(Y_train,train_preds3)))\n",
    "RMSE_test=(np.sqrt(metrics.mean_squared_error(Y_test,test_preds3)))\n",
    "print(\"RMSE TrainingData = \",str(RMSE_train))\n",
    "print(\"RMSE TestData = \",str(RMSE_test))\n",
    "print('-'*50)\n",
    "r_squared_t = r2_score(Y_train, train_preds3)\n",
    "r_squared_ts = r2_score(Y_test, test_preds3)\n",
    "print('RSquared value on train:',r_squared_t)\n",
    "print('RSquared value on test:',r_squared_ts)\n",
    "print('-'*50)\n",
    "num_predictors = X_train.shape[1]  # Replace X_train with your training data\n",
    "num_observations = X_train.shape[0]  # Replace X_train with your training data\n",
    "adjusted_r_squared_t = 1 - (1 - r_squared_t) * (num_observations - 1) / (num_observations - num_predictors - 1)\n",
    "\n",
    "num_predictors = X_test.shape[1]  # Replace X_train with your test data\n",
    "num_observations = X_test.shape[0]  # Replace X_train with your test data\n",
    "adjusted_r_squared_ts = 1 - (1 - r_squared_ts) * (num_observations - 1) / (num_observations - num_predictors - 1)\n",
    "\n",
    "\n",
    "print('RSquared Adjusted value on train:',adjusted_r_squared_t)\n",
    "print('RSquared Adjusted value on test:',adjusted_r_squared_ts)"
   ]
  },
  {
   "cell_type": "code",
   "execution_count": 76,
   "metadata": {},
   "outputs": [
    {
     "data": {
      "text/html": [
       "<style>#sk-container-id-6 {color: black;background-color: white;}#sk-container-id-6 pre{padding: 0;}#sk-container-id-6 div.sk-toggleable {background-color: white;}#sk-container-id-6 label.sk-toggleable__label {cursor: pointer;display: block;width: 100%;margin-bottom: 0;padding: 0.3em;box-sizing: border-box;text-align: center;}#sk-container-id-6 label.sk-toggleable__label-arrow:before {content: \"▸\";float: left;margin-right: 0.25em;color: #696969;}#sk-container-id-6 label.sk-toggleable__label-arrow:hover:before {color: black;}#sk-container-id-6 div.sk-estimator:hover label.sk-toggleable__label-arrow:before {color: black;}#sk-container-id-6 div.sk-toggleable__content {max-height: 0;max-width: 0;overflow: hidden;text-align: left;background-color: #f0f8ff;}#sk-container-id-6 div.sk-toggleable__content pre {margin: 0.2em;color: black;border-radius: 0.25em;background-color: #f0f8ff;}#sk-container-id-6 input.sk-toggleable__control:checked~div.sk-toggleable__content {max-height: 200px;max-width: 100%;overflow: auto;}#sk-container-id-6 input.sk-toggleable__control:checked~label.sk-toggleable__label-arrow:before {content: \"▾\";}#sk-container-id-6 div.sk-estimator input.sk-toggleable__control:checked~label.sk-toggleable__label {background-color: #d4ebff;}#sk-container-id-6 div.sk-label input.sk-toggleable__control:checked~label.sk-toggleable__label {background-color: #d4ebff;}#sk-container-id-6 input.sk-hidden--visually {border: 0;clip: rect(1px 1px 1px 1px);clip: rect(1px, 1px, 1px, 1px);height: 1px;margin: -1px;overflow: hidden;padding: 0;position: absolute;width: 1px;}#sk-container-id-6 div.sk-estimator {font-family: monospace;background-color: #f0f8ff;border: 1px dotted black;border-radius: 0.25em;box-sizing: border-box;margin-bottom: 0.5em;}#sk-container-id-6 div.sk-estimator:hover {background-color: #d4ebff;}#sk-container-id-6 div.sk-parallel-item::after {content: \"\";width: 100%;border-bottom: 1px solid gray;flex-grow: 1;}#sk-container-id-6 div.sk-label:hover label.sk-toggleable__label {background-color: #d4ebff;}#sk-container-id-6 div.sk-serial::before {content: \"\";position: absolute;border-left: 1px solid gray;box-sizing: border-box;top: 0;bottom: 0;left: 50%;z-index: 0;}#sk-container-id-6 div.sk-serial {display: flex;flex-direction: column;align-items: center;background-color: white;padding-right: 0.2em;padding-left: 0.2em;position: relative;}#sk-container-id-6 div.sk-item {position: relative;z-index: 1;}#sk-container-id-6 div.sk-parallel {display: flex;align-items: stretch;justify-content: center;background-color: white;position: relative;}#sk-container-id-6 div.sk-item::before, #sk-container-id-6 div.sk-parallel-item::before {content: \"\";position: absolute;border-left: 1px solid gray;box-sizing: border-box;top: 0;bottom: 0;left: 50%;z-index: -1;}#sk-container-id-6 div.sk-parallel-item {display: flex;flex-direction: column;z-index: 1;position: relative;background-color: white;}#sk-container-id-6 div.sk-parallel-item:first-child::after {align-self: flex-end;width: 50%;}#sk-container-id-6 div.sk-parallel-item:last-child::after {align-self: flex-start;width: 50%;}#sk-container-id-6 div.sk-parallel-item:only-child::after {width: 0;}#sk-container-id-6 div.sk-dashed-wrapped {border: 1px dashed gray;margin: 0 0.4em 0.5em 0.4em;box-sizing: border-box;padding-bottom: 0.4em;background-color: white;}#sk-container-id-6 div.sk-label label {font-family: monospace;font-weight: bold;display: inline-block;line-height: 1.2em;}#sk-container-id-6 div.sk-label-container {text-align: center;}#sk-container-id-6 div.sk-container {/* jupyter's `normalize.less` sets `[hidden] { display: none; }` but bootstrap.min.css set `[hidden] { display: none !important; }` so we also need the `!important` here to be able to override the default hidden behavior on the sphinx rendered scikit-learn.org. See: https://github.com/scikit-learn/scikit-learn/issues/21755 */display: inline-block !important;position: relative;}#sk-container-id-6 div.sk-text-repr-fallback {display: none;}</style><div id=\"sk-container-id-6\" class=\"sk-top-container\"><div class=\"sk-text-repr-fallback\"><pre>XGBRegressor(base_score=None, booster=None, callbacks=None,\n",
       "             colsample_bylevel=None, colsample_bynode=None,\n",
       "             colsample_bytree=None, early_stopping_rounds=None,\n",
       "             enable_categorical=False, eval_metric=None, feature_types=None,\n",
       "             gamma=None, gpu_id=None, grow_policy=None, importance_type=None,\n",
       "             interaction_constraints=None, learning_rate=None, max_bin=None,\n",
       "             max_cat_threshold=None, max_cat_to_onehot=None,\n",
       "             max_delta_step=None, max_depth=None, max_leaves=None,\n",
       "             min_child_weight=None, missing=nan, monotone_constraints=None,\n",
       "             n_estimators=100, n_jobs=None, num_parallel_tree=None,\n",
       "             predictor=None, random_state=None, ...)</pre><b>In a Jupyter environment, please rerun this cell to show the HTML representation or trust the notebook. <br />On GitHub, the HTML representation is unable to render, please try loading this page with nbviewer.org.</b></div><div class=\"sk-container\" hidden><div class=\"sk-item\"><div class=\"sk-estimator sk-toggleable\"><input class=\"sk-toggleable__control sk-hidden--visually\" id=\"sk-estimator-id-6\" type=\"checkbox\" checked><label for=\"sk-estimator-id-6\" class=\"sk-toggleable__label sk-toggleable__label-arrow\">XGBRegressor</label><div class=\"sk-toggleable__content\"><pre>XGBRegressor(base_score=None, booster=None, callbacks=None,\n",
       "             colsample_bylevel=None, colsample_bynode=None,\n",
       "             colsample_bytree=None, early_stopping_rounds=None,\n",
       "             enable_categorical=False, eval_metric=None, feature_types=None,\n",
       "             gamma=None, gpu_id=None, grow_policy=None, importance_type=None,\n",
       "             interaction_constraints=None, learning_rate=None, max_bin=None,\n",
       "             max_cat_threshold=None, max_cat_to_onehot=None,\n",
       "             max_delta_step=None, max_depth=None, max_leaves=None,\n",
       "             min_child_weight=None, missing=nan, monotone_constraints=None,\n",
       "             n_estimators=100, n_jobs=None, num_parallel_tree=None,\n",
       "             predictor=None, random_state=None, ...)</pre></div></div></div></div></div>"
      ],
      "text/plain": [
       "XGBRegressor(base_score=None, booster=None, callbacks=None,\n",
       "             colsample_bylevel=None, colsample_bynode=None,\n",
       "             colsample_bytree=None, early_stopping_rounds=None,\n",
       "             enable_categorical=False, eval_metric=None, feature_types=None,\n",
       "             gamma=None, gpu_id=None, grow_policy=None, importance_type=None,\n",
       "             interaction_constraints=None, learning_rate=None, max_bin=None,\n",
       "             max_cat_threshold=None, max_cat_to_onehot=None,\n",
       "             max_delta_step=None, max_depth=None, max_leaves=None,\n",
       "             min_child_weight=None, missing=nan, monotone_constraints=None,\n",
       "             n_estimators=100, n_jobs=None, num_parallel_tree=None,\n",
       "             predictor=None, random_state=None, ...)"
      ]
     },
     "execution_count": 76,
     "metadata": {},
     "output_type": "execute_result"
    }
   ],
   "source": [
    "xgbr = xgb.XGBRegressor()\n",
    "xgbr.fit(X_train, Y_train)"
   ]
  },
  {
   "cell_type": "code",
   "execution_count": 77,
   "metadata": {},
   "outputs": [],
   "source": [
    "train_preds4 = xgbr.predict(X_train)\n",
    "test_preds4 = xgbr.predict(X_test)"
   ]
  },
  {
   "cell_type": "code",
   "execution_count": 80,
   "metadata": {},
   "outputs": [
    {
     "name": "stdout",
     "output_type": "stream",
     "text": [
      "RMSE TrainingData =  0.2801700775935547\n",
      "RMSE TestData =  1.0316911429709223\n",
      "--------------------------------------------------\n",
      "RSquared value on train: 0.9999823258825553\n",
      "RSquared value on test: 0.999760408080776\n",
      "--------------------------------------------------\n",
      "RSquared Adjusted value on train: 0.9999823257393059\n",
      "RSquared Adjusted value on test: 0.9997604003129146\n"
     ]
    }
   ],
   "source": [
    "RMSE_train=(np.sqrt(metrics.mean_squared_error(Y_train,train_preds4)))\n",
    "RMSE_test=(np.sqrt(metrics.mean_squared_error(Y_test,test_preds4)))\n",
    "print(\"RMSE TrainingData = \",str(RMSE_train))\n",
    "print(\"RMSE TestData = \",str(RMSE_test))\n",
    "print('-'*50)\n",
    "\n",
    "r_squared_t = r2_score(Y_train, train_preds4)\n",
    "r_squared_ts = r2_score(Y_test, test_preds4)\n",
    "print('RSquared value on train:',r_squared_t)\n",
    "print('RSquared value on test:',r_squared_ts)\n",
    "print('-'*50)\n",
    "num_predictors = X_train.shape[1]  # Replace X_train with your training data\n",
    "num_observations = X_train.shape[0]  # Replace X_train with your training data\n",
    "adjusted_r_squared_t = 1 - (1 - r_squared_t) * (num_observations - 1) / (num_observations - num_predictors - 1)\n",
    "\n",
    "num_predictors = X_test.shape[1]  # Replace X_train with your test data\n",
    "num_observations = X_test.shape[0]  # Replace X_train with your test data\n",
    "adjusted_r_squared_ts = 1 - (1 - r_squared_ts) * (num_observations - 1) / (num_observations - num_predictors - 1)\n",
    "\n",
    "\n",
    "print('RSquared Adjusted value on train:',adjusted_r_squared_t)\n",
    "print('RSquared Adjusted value on test:',adjusted_r_squared_ts)"
   ]
  },
  {
   "cell_type": "code",
   "execution_count": 82,
   "metadata": {
    "id": "VplI_m2I_mQ9"
   },
   "outputs": [],
   "source": [
    "LR=LogisticRegression(penalty='l2', C=1.0)"
   ]
  },
  {
   "cell_type": "code",
   "execution_count": 83,
   "metadata": {},
   "outputs": [],
   "source": [
    "X=df[['PMi','COi','CO2i']]\n",
    "Y=df['AQI_Bucket']"
   ]
  },
  {
   "cell_type": "code",
   "execution_count": 84,
   "metadata": {},
   "outputs": [
    {
     "name": "stdout",
     "output_type": "stream",
     "text": [
      "(370144, 3) (92536, 3) (370144,) (92536,)\n"
     ]
    }
   ],
   "source": [
    "X_train,X_test,Y_train,Y_test=train_test_split(X,Y,test_size=0.2,random_state=70)\n",
    "print(X_train.shape,X_test.shape,Y_train.shape,Y_test.shape)"
   ]
  },
  {
   "cell_type": "code",
   "execution_count": 85,
   "metadata": {
    "id": "3y3ilv8zAXIm"
   },
   "outputs": [],
   "source": [
    "log_reg = LR.fit(X_train, Y_train)"
   ]
  },
  {
   "cell_type": "code",
   "execution_count": 88,
   "metadata": {},
   "outputs": [],
   "source": [
    "#predicting train\n",
    "train_preds2=LR.predict(X_train)\n",
    "#predicting on test\n",
    "test_preds2=LR.predict(X_test)"
   ]
  },
  {
   "cell_type": "code",
   "execution_count": 89,
   "metadata": {},
   "outputs": [
    {
     "name": "stdout",
     "output_type": "stream",
     "text": [
      "Accuracy: 0.8845422322123282\n"
     ]
    }
   ],
   "source": [
    "accuracy = accuracy_score(Y_test, test_preds2)\n",
    "print(\"Accuracy:\", accuracy)"
   ]
  },
  {
   "cell_type": "code",
   "execution_count": 92,
   "metadata": {},
   "outputs": [
    {
     "name": "stdout",
     "output_type": "stream",
     "text": [
      "Precision: 0.627757587068681\n"
     ]
    }
   ],
   "source": [
    "precision = precision_score(Y_test, test_preds2, average='macro')\n",
    "print(\"Precision:\", precision)\n"
   ]
  },
  {
   "cell_type": "code",
   "execution_count": 95,
   "metadata": {},
   "outputs": [
    {
     "name": "stdout",
     "output_type": "stream",
     "text": [
      "Recall: 0.6033408305347298\n"
     ]
    }
   ],
   "source": [
    "recall = recall_score(Y_test, test_preds2, average='macro')\n",
    "print(\"Recall:\", recall)"
   ]
  },
  {
   "cell_type": "code",
   "execution_count": 98,
   "metadata": {},
   "outputs": [
    {
     "name": "stdout",
     "output_type": "stream",
     "text": [
      "F1-score: 0.6139519396795254\n"
     ]
    }
   ],
   "source": [
    "f1 = f1_score(Y_test, test_preds2, average='macro')\n",
    "print(\"F1-score:\", f1)\n"
   ]
  },
  {
   "cell_type": "code",
   "execution_count": 106,
   "metadata": {},
   "outputs": [
    {
     "name": "stdout",
     "output_type": "stream",
     "text": [
      "Confusion Matrix:\n",
      " [[    0     0     0     0    16     0     8]\n",
      " [    0     0     0   435     0     0     0]\n",
      " [    0     0  2731     3     0     3   289]\n",
      " [    0     0     0 22406     0   859     0]\n",
      " [    0     0     0     3 43240  1997   301]\n",
      " [    0     0     0   926  4624  8410     0]\n",
      " [    0     0   211     2   974    33  5065]]\n"
     ]
    }
   ],
   "source": [
    "confusion_mat = confusion_matrix(Y_test, test_preds2)\n",
    "print(\"Confusion Matrix:\\n\", confusion_mat)"
   ]
  },
  {
   "cell_type": "code",
   "execution_count": null,
   "metadata": {},
   "outputs": [],
   "source": []
  }
 ],
 "metadata": {
  "accelerator": "GPU",
  "colab": {
   "gpuType": "T4",
   "provenance": []
  },
  "gpuClass": "standard",
  "kernelspec": {
   "display_name": "Python 3 (ipykernel)",
   "language": "python",
   "name": "python3"
  },
  "language_info": {
   "codemirror_mode": {
    "name": "ipython",
    "version": 3
   },
   "file_extension": ".py",
   "mimetype": "text/x-python",
   "name": "python",
   "nbconvert_exporter": "python",
   "pygments_lexer": "ipython3",
   "version": "3.10.9"
  }
 },
 "nbformat": 4,
 "nbformat_minor": 1
}
